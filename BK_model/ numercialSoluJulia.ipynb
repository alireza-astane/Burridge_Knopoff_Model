{
 "cells": [
  {
   "cell_type": "code",
   "execution_count": 2,
   "metadata": {},
   "outputs": [],
   "source": [
    "using Pkg\n",
    "using Distributions\n",
    "using Plots\n",
    "using JLD2"
   ]
  },
  {
   "cell_type": "code",
   "execution_count": 1,
   "metadata": {},
   "outputs": [],
   "source": [
    "L = 4000;\n",
    "u = 0.0001;\n",
    "k1 = 1;\n",
    "k2 = 0.01;\n",
    "eps = 0.01;  \n",
    "alpha = 3;\n",
    "F0 = 1;\n",
    "m = 1;\n",
    "h = 0.1;\n",
    "# eps2 = 0.007;    "
   ]
  },
  {
   "cell_type": "code",
   "execution_count": 3,
   "metadata": {},
   "outputs": [],
   "source": [
    "x = 0.1 * rand(Uniform(-1,1), L);\n",
    "v = zeros(L);\n",
    "t = 0;\n",
    "# x,v,t,eventsSize,eventsBlocks,eventsBlocks2,xdata,vdata,ends,tenstionData = run(x,v,t,1_000_000,L,alpha)\n",
    "# Ts = tenstionData[ends][np.argwhere(eventsBlocks2[:] >= 500)[:,0]]"
   ]
  },
  {
   "cell_type": "code",
   "execution_count": 8,
   "metadata": {},
   "outputs": [
    {
     "data": {
      "text/plain": [
       "doStep (generic function with 1 method)"
      ]
     },
     "execution_count": 8,
     "metadata": {},
     "output_type": "execute_result"
    }
   ],
   "source": [
    "function roll(arr, step)\n",
    "    return vcat(arr[end-step+1:end], arr[1:end-step])\n",
    "end\n",
    "\n",
    "function acc(x,v,t,l,alpha)\n",
    "    k2= 1/(l-1)\n",
    "    xIntoLeft = roll(x,size(x)[1]-1)\n",
    "    xIntoRight = roll(x,1)\n",
    "\n",
    "    return (-x*(2*k1 + k2) .+ (xIntoRight + xIntoLeft)*k1 .+ k2*u*t .- f(x,v,t,l,alpha) )/m\n",
    "end;\n",
    "\n",
    "function f(x,v,t,l,alpha)\n",
    "    k2= 1/(l-1)\n",
    "    \n",
    "    xIntoLeft = roll(x,size(x)[1]-1)\n",
    "    xIntoRight = roll(x,1)\n",
    "\n",
    "    return ifelse.(v .==0 , ifelse.(abs.(-x*(2*k1 + k2) .+ (xIntoRight + xIntoLeft)*k1 .+ k2*u*t) .< F0,-x*(2*k1 + k2) .+ (xIntoRight + xIntoLeft)*k1 .+ k2*u*t ,F0*(1-eps)),F0*(1-eps) ./ (1 .+ alpha*abs.(v)))\n",
    "\n",
    "end;\n",
    "\n",
    "function tenstion(x,v,t,l,alpha)\n",
    "    return m*acc(x,v,t,l,alpha) .+ f(x,v,t,l,alpha)\n",
    "end \n",
    "\n",
    "function doStep(x,v,t,l,alpha)\n",
    "    k2= 1/(l-1)\n",
    "\n",
    "\n",
    "    if all(v .== 0)\n",
    "        t += (F0-maximum(tenstion(x,v,t,l,alpha)))/(k2*u)\n",
    "\n",
    "        k_1 = v\n",
    "        l_1 = acc(x,v,t,l,alpha)\n",
    "\n",
    "        k_2 = v .+ l_1*h/2\n",
    "        l_2 = acc(x .+ k_1*h/2,v .+ l_1*h/2,t + h/2,l,alpha)\n",
    "\n",
    "        k_3 = v .+ l_2*h/2\n",
    "        l_3 = acc(x .+ k_2*h/2,v .+ l_2*h/2,t + h/2,l,alpha)\n",
    "\n",
    "        k_4 = v .+ l_3/2\n",
    "        l_4 = acc(x .+ k_3*h,v .+ l_3*h, t + h,l,alpha)\n",
    "\n",
    "        x = x +  (k_1 + 2*k_2 + 2*k_3 + k_4)*h/6\n",
    "        v = v +  (l_1 .+ 2*l_2 .+ 2*l_3 + l_4)*h/6\n",
    "\n",
    "        v = ifelse.(v .< 0 , 0 , v)\n",
    "\n",
    "    else\n",
    "        k_1 = v\n",
    "        l_1 = acc(x,v,t,l,alpha)\n",
    "\n",
    "        k_2 = v .+ l_1*h/2\n",
    "        l_2 = acc(x .+ k_1*h/2,v .+ l_1*h/2,t + h/2,l,alpha)\n",
    "\n",
    "        k_3 = v .+ l_2*h/2\n",
    "        l_3 = acc(x .+ k_2*h/2,v .+ l_2*h/2,t + h/2,l,alpha)\n",
    "\n",
    "        k_4 = v .+ l_3/2\n",
    "        l_4 = acc(x .+ k_3*h,v .+ l_3*h, t + h,l,alpha)\n",
    "\n",
    "        x = x +  (k_1 + 2*k_2 + 2*k_3 + k_4)*h/6\n",
    "        v = v +  (l_1 + 2*l_2 + 2*l_3 + l_4)*h/6\n",
    "\n",
    "        v = ifelse.(v .< 0 , 0 , v)\n",
    "\n",
    "    end\n",
    "\n",
    "    return x, v,t+h\n",
    "\n",
    "end"
   ]
  },
  {
   "cell_type": "code",
   "execution_count": 5,
   "metadata": {},
   "outputs": [
    {
     "data": {
      "text/plain": [
       "10×10 Matrix{Float64}:\n",
       " 0.0  0.0  0.0  0.0  0.0  0.0  0.0  0.0  0.0  0.0\n",
       " 0.0  0.0  0.0  0.0  0.0  0.0  0.0  0.0  0.0  0.0\n",
       " 0.0  0.0  0.0  0.0  0.0  0.0  0.0  0.0  0.0  0.0\n",
       " 0.0  0.0  0.0  0.0  0.0  0.0  0.0  0.0  0.0  0.0\n",
       " 0.0  0.0  0.0  0.0  0.0  0.0  0.0  0.0  0.0  0.0\n",
       " 0.0  0.0  0.0  0.0  0.0  0.0  0.0  0.0  0.0  0.0\n",
       " 0.0  0.0  0.0  0.0  0.0  0.0  0.0  0.0  0.0  0.0\n",
       " 0.0  0.0  0.0  0.0  0.0  0.0  0.0  0.0  0.0  0.0\n",
       " 0.0  0.0  0.0  0.0  0.0  0.0  0.0  0.0  0.0  0.0\n",
       " 0.0  0.0  0.0  0.0  0.0  0.0  0.0  0.0  0.0  0.0"
      ]
     },
     "execution_count": 5,
     "metadata": {},
     "output_type": "execute_result"
    }
   ],
   "source": [
    "xdata = zeros((10,10))\n",
    "vdata = zeros((10,10))"
   ]
  },
  {
   "cell_type": "code",
   "execution_count": 140,
   "metadata": {},
   "outputs": [
    {
     "name": "stdout",
     "output_type": "stream",
     "text": [
      "1\n",
      "2\n",
      "3\n",
      "4\n",
      "5\n",
      "6\n",
      "7\n",
      "8\n",
      "9\n",
      "10\n"
     ]
    }
   ],
   "source": [
    "for i in range(1,10)\n",
    "    println(i)\n",
    "end"
   ]
  },
  {
   "cell_type": "code",
   "execution_count": 189,
   "metadata": {},
   "outputs": [
    {
     "data": {
      "text/plain": [
       "10×1 Matrix{Float64}:\n",
       " -0.7653150611932252\n",
       " -0.7647366681363874\n",
       " -0.7642190188436765\n",
       " -0.7637723172192169\n",
       " -0.7634053051577223\n",
       " -0.763125091748077\n",
       " -0.7629370159000058\n",
       " -0.7628445450391385\n",
       " -0.7628492117819378\n",
       " -0.762949855558217"
      ]
     },
     "execution_count": 189,
     "metadata": {},
     "output_type": "execute_result"
    }
   ],
   "source": [
    "l = L \n",
    "steps = 10 \n",
    "\n",
    "\n",
    "xdata = zeros((steps,l))\n",
    "vdata = zeros((steps,l))\n",
    "tenstionData = zeros((steps,l))\n",
    "for i in range(1,steps)\n",
    "    x,v,t = doStep(x,v,t,l,alpha)\n",
    "    xdata[i,:] = x\n",
    "    vdata[i,:] = v\n",
    "    tenstionData[i,:] = tenstion(x,v,t,l,alpha)\n",
    "\n",
    "end \n",
    "\n",
    "slipping = any(vdata .>0 , dims = 2)\n",
    "\n",
    "slippingR = roll(slipping,+1)\n",
    "slippingL = roll(slipping,size(slipping)[1]-1)\n",
    "\n",
    "slippingR[1] = false\n",
    "slippingL[size(slipping)[1]] = false\n",
    "\n",
    "ends  = slipping .⊻ (slipping[:,1] .& slippingL)\n",
    "starts  = slipping .⊻ (slipping[:,1] .& slippingR)\n",
    "\n",
    "totalX = sum(xdata,dims = 2)\n"
   ]
  },
  {
   "cell_type": "code",
   "execution_count": 192,
   "metadata": {},
   "outputs": [
    {
     "data": {
      "text/plain": [
       "10×1 BitMatrix:\n",
       " 0\n",
       " 0\n",
       " 0\n",
       " 0\n",
       " 0\n",
       " 0\n",
       " 0\n",
       " 0\n",
       " 1\n",
       " 0"
      ]
     },
     "execution_count": 192,
     "metadata": {},
     "output_type": "execute_result"
    }
   ],
   "source": [
    "ends"
   ]
  },
  {
   "cell_type": "code",
   "execution_count": 202,
   "metadata": {},
   "outputs": [
    {
     "data": {
      "text/plain": [
       "9-element Vector{Int64}:\n",
       "  1\n",
       "  2\n",
       "  3\n",
       "  4\n",
       "  5\n",
       "  6\n",
       "  7\n",
       "  8\n",
       " 10"
      ]
     },
     "execution_count": 202,
     "metadata": {},
     "output_type": "execute_result"
    }
   ],
   "source": [
    "findall(x -> x == 0, ends[:,1])"
   ]
  },
  {
   "cell_type": "code",
   "execution_count": 205,
   "metadata": {},
   "outputs": [
    {
     "data": {
      "text/plain": [
       "1-element Vector{Real}:\n",
       " 0.0"
      ]
     },
     "execution_count": 205,
     "metadata": {},
     "output_type": "execute_result"
    }
   ],
   "source": [
    "v[findall(x -> x == 1, ends[:,1])]"
   ]
  },
  {
   "cell_type": "code",
   "execution_count": 207,
   "metadata": {},
   "outputs": [
    {
     "data": {
      "text/plain": [
       "10×1 Matrix{Float64}:\n",
       " -0.7653150611932252\n",
       " -0.7647366681363874\n",
       " -0.7642190188436765\n",
       " -0.7637723172192169\n",
       " -0.7634053051577223\n",
       " -0.763125091748077\n",
       " -0.7629370159000058\n",
       " -0.7628445450391385\n",
       " -0.7628492117819378\n",
       " -0.762949855558217"
      ]
     },
     "execution_count": 207,
     "metadata": {},
     "output_type": "execute_result"
    }
   ],
   "source": [
    "totalX"
   ]
  },
  {
   "cell_type": "code",
   "execution_count": 206,
   "metadata": {},
   "outputs": [
    {
     "data": {
      "text/plain": [
       "1-element Vector{Float64}:\n",
       " -0.7628492117819378"
      ]
     },
     "execution_count": 206,
     "metadata": {},
     "output_type": "execute_result"
    }
   ],
   "source": [
    "totalX[findall(x -> x == 1, ends[:,1])]"
   ]
  },
  {
   "cell_type": "code",
   "execution_count": 221,
   "metadata": {},
   "outputs": [
    {
     "data": {
      "text/plain": [
       "1-element Vector{Vector{Int64}}:\n",
       " [9]"
      ]
     },
     "execution_count": 221,
     "metadata": {},
     "output_type": "execute_result"
    }
   ],
   "source": [
    "[findall(x -> x == 1, ends[:,1])]"
   ]
  },
  {
   "cell_type": "code",
   "execution_count": 237,
   "metadata": {},
   "outputs": [
    {
     "data": {
      "text/plain": [
       "1×1 Matrix{Int64}:\n",
       " 1"
      ]
     },
     "execution_count": 237,
     "metadata": {},
     "output_type": "execute_result"
    }
   ],
   "source": [
    "sum(xdata[findall(x -> x == 1, ends[:,1]),:]  .!= xdata[findall(x -> x == 1, starts[:,1]),:],dims=2)"
   ]
  },
  {
   "cell_type": "code",
   "execution_count": 228,
   "metadata": {},
   "outputs": [
    {
     "data": {
      "text/plain": [
       "1×200 Matrix{Float64}:\n",
       " 0.301747  0.037456  0.0328477  …  0.0974172  -0.0167453  -0.0481326"
      ]
     },
     "execution_count": 228,
     "metadata": {},
     "output_type": "execute_result"
    }
   ],
   "source": []
  },
  {
   "cell_type": "code",
   "execution_count": 9,
   "metadata": {},
   "outputs": [
    {
     "data": {
      "text/plain": [
       "doRun (generic function with 1 method)"
      ]
     },
     "execution_count": 9,
     "metadata": {},
     "output_type": "execute_result"
    }
   ],
   "source": [
    "function doRun(x,v,t,steps,l,alpha)\n",
    "    xdata = zeros((steps,l))\n",
    "    vdata = zeros((steps,l))\n",
    "    tenstionData = zeros((steps,l))\n",
    "    for i in range(1,steps)\n",
    "        x,v,t = doStep(x,v,t,l,alpha)\n",
    "        xdata[i,:] = x\n",
    "        vdata[i,:] = v\n",
    "        tenstionData[i,:] = tenstion(x,v,t,l,alpha)\n",
    "\n",
    "    end \n",
    "\n",
    "    slipping = any(vdata .>0 , dims = 2)\n",
    "\n",
    "    slippingR = roll(slipping,+1)\n",
    "    slippingL = roll(slipping,size(slipping)[1]-1)\n",
    "\n",
    "    slippingR[1] = false\n",
    "    slippingL[size(slipping)[1]] = false\n",
    "\n",
    "    ends  = slipping .⊻ (slipping[:,1] .& slippingL)\n",
    "    ends = findall(x -> x == 1, ends[:,1])\n",
    "\n",
    "    starts  = slipping .⊻ (slipping[:,1] .& slippingR)\n",
    "    starts = findall(x -> x == 1, starts[:,1])\n",
    "\n",
    "\n",
    "\n",
    "    totalX = sum(xdata,dims = 2)\n",
    "\n",
    "    eventsSize = totalX[ends] - totalX[starts]\n",
    "\n",
    "    # eventsBlocks = sum(xdata[findall(x -> x == 1, ends[:,1]),:]  .!= xdata[findall(x -> x == 1, starts[:,1]),:],dims=2)\n",
    "\n",
    "    # arr1 = vdata .>0;\n",
    "    # arr2 = arr1 .> circshift(arr1,(0,1));\n",
    "    # arr3 = sum(arr2,dims=2)\n",
    "    # arr4 = cumsum(arr3,dims=1)   ###CHECK\n",
    "\n",
    "    # arr5 = arr4[starts]\n",
    "    # arr6 = arr4[ends]\n",
    "\n",
    "    # eventsBlocks2 = arr6-arr5\n",
    "\n",
    "\n",
    "    return x,v,t,eventsSize #,eventsBlocks,eventsBlocks2,xdata,vdata,ends,tenstionData\n",
    "\n",
    "\n",
    "    end\n",
    "\n"
   ]
  },
  {
   "cell_type": "code",
   "execution_count": 12,
   "metadata": {},
   "outputs": [
    {
     "data": {
      "text/plain": [
       "([5166.296029352874, 5162.936972686958, 5159.597987126759, 5156.254542138897, 5152.898829081256, 5149.560026460397, 5146.185617333872, 5142.7643204973165, 5139.347986396162, 5135.984249125419  …  5199.865502937852, 5196.471557523625, 5193.116693818463, 5189.769655373353, 5186.385898822387, 5182.979306269916, 5179.609607401524, 5176.283410077641, 5172.988239720333, 5169.651225405046], [0.0, 0.0, 0.0, 0.0, 0.0, 0.0, 0.0, 0.0, 0.0, 0.0  …  0.0, 0.0, 0.0, 0.0, 0.0, 0.0, 0.0, 0.0, 0.0, 0.0], 3.0101808555048697e7, [0.25053335205324245, 0.25053335205324156, 0.2505333520532438, 0.2505333520532429, 0.25053335205324334, 0.2505333520532389, 0.25053335205324423, 0.25053335205324334, 0.2505333520532469, 0.25053335205324245  …  0.2505333520532389, 0.2505333520532389, 0.2505333520532389, 0.2505333520532673, 0.2505333520532531, 0.2505333520532389, 0.2505333520532389, 0.2505333520532531, 0.6525235731474055, 5.200713499804158e6])"
      ]
     },
     "execution_count": 12,
     "metadata": {},
     "output_type": "execute_result"
    }
   ],
   "source": [
    "doRun(x,v,t,10_000, L,alpha)"
   ]
  },
  {
   "cell_type": "code",
   "execution_count": 257,
   "metadata": {},
   "outputs": [
    {
     "ename": "LoadError",
     "evalue": "BoundsError: attempt to access Tuple{Vector{Float64}, Vector{Float64}, Float64, Matrix{Float64}} at index [5]",
     "output_type": "error",
     "traceback": [
      "BoundsError: attempt to access Tuple{Vector{Float64}, Vector{Float64}, Float64, Matrix{Float64}} at index [5]",
      "",
      "Stacktrace:",
      " [1] indexed_iterate(t::Tuple{Vector{Float64}, Vector{Float64}, Float64, Matrix{Float64}}, i::Int64, state::Int64)",
      "   @ Base ./tuple.jl:88",
      " [2] top-level scope",
      "   @ In[257]:1"
     ]
    }
   ],
   "source": [
    "\n",
    "x,v,t,eventsSize,eventsBlocks,eventsBlocks2,xdata,vdata,ends,tenstionData = doRun(x,v,t,100, L,alpha)"
   ]
  },
  {
   "cell_type": "code",
   "execution_count": 260,
   "metadata": {},
   "outputs": [
    {
     "data": {
      "text/plain": [
       "44-element Vector{Int64}:\n",
       " 18\n",
       " 21\n",
       " 21\n",
       " 21\n",
       " 21\n",
       " 21\n",
       " 21\n",
       " 21\n",
       " 21\n",
       " 21\n",
       " 21\n",
       " 21\n",
       " 21\n",
       "  ⋮\n",
       " 21\n",
       " 21\n",
       " 21\n",
       " 21\n",
       " 21\n",
       " 21\n",
       " 21\n",
       " 21\n",
       " 21\n",
       " 21\n",
       " 21\n",
       " 13"
      ]
     },
     "execution_count": 260,
     "metadata": {},
     "output_type": "execute_result"
    }
   ],
   "source": [
    "l = L \n",
    "steps = 1000\n",
    "\n",
    "xdata = zeros((steps,l))\n",
    "vdata = zeros((steps,l))\n",
    "tenstionData = zeros((steps,l))\n",
    "for i in range(1,steps)\n",
    "    x,v,t = doStep(x,v,t,l,alpha)\n",
    "    xdata[i,:] = x\n",
    "    vdata[i,:] = v\n",
    "    tenstionData[i,:] = tenstion(x,v,t,l,alpha)\n",
    "\n",
    "end \n",
    "\n",
    "slipping = any(vdata .>0 , dims = 2)\n",
    "\n",
    "slippingR = roll(slipping,+1)\n",
    "slippingL = roll(slipping,size(slipping)[1]-1)\n",
    "\n",
    "slippingR[1] = false\n",
    "slippingL[size(slipping)[1]] = false\n",
    "\n",
    "ends  = slipping .⊻ (slipping[:,1] .& slippingL)\n",
    "ends = findall(x -> x == 1, ends[:,1])\n",
    "\n",
    "starts  = slipping .⊻ (slipping[:,1] .& slippingR)\n",
    "starts = findall(x -> x == 1, starts[:,1])\n",
    "\n",
    "\n",
    "\n",
    "totalX = sum(xdata,dims = 2)\n",
    "\n",
    "eventsSize = totalX[ends] - totalX[starts]\n",
    "\n",
    "eventsBlocks = sum(xdata[findall(x -> x == 1, ends[:,1]),:]  .!= xdata[findall(x -> x == 1, starts[:,1]),:],dims=2)\n",
    "\n",
    "arr1 = vdata .>0;\n",
    "arr2 = arr1 .> circshift(arr1,(0,1));\n",
    "arr3 = sum(arr2,dims=2)\n",
    "arr4 = cumsum(arr3,dims=1)   ###CHECK\n",
    "\n",
    "arr5 = arr4[starts]\n",
    "arr6 = arr4[ends]\n",
    "\n",
    "eventsBlocks2 = arr6-arr5\n",
    "\n",
    "arr6 - arr5 "
   ]
  },
  {
   "cell_type": "code",
   "execution_count": null,
   "metadata": {},
   "outputs": [],
   "source": []
  }
 ],
 "metadata": {
  "kernelspec": {
   "display_name": "Julia 1.9.3",
   "language": "julia",
   "name": "julia-1.9"
  },
  "language_info": {
   "file_extension": ".jl",
   "mimetype": "application/julia",
   "name": "julia",
   "version": "1.9.3"
  }
 },
 "nbformat": 4,
 "nbformat_minor": 2
}
