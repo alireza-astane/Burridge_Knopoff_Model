{
 "cells": [
  {
   "cell_type": "code",
   "execution_count": 1,
   "metadata": {},
   "outputs": [],
   "source": [
    "import numpy as np\n",
    "import matplotlib.pyplot as plt\n",
    "from numba import njit\n",
    "import scipy \n",
    "import datetime\n",
    "import json\n",
    "from tqdm import tqdm"
   ]
  },
  {
   "cell_type": "code",
   "execution_count": 12,
   "metadata": {},
   "outputs": [],
   "source": [
    "L = 50\n",
    "u = 0.0001\n",
    "k1 = 1\n",
    "k2 = 0.04\n",
    "eps = 0.01  \n",
    "alpha = 0.1\n",
    "F0 = 1\n",
    "m = 1\n",
    "h = 0.1\n",
    "eps2 = 0.007     "
   ]
  },
  {
   "cell_type": "code",
   "execution_count": 10,
   "metadata": {},
   "outputs": [],
   "source": [
    "@njit \n",
    "def sum2(a):\n",
    "    sh = a.shape[0]\n",
    "    b =  np.zeros(sh)\n",
    "    b[0] = a[0]\n",
    "    for i in range(1,sh):\n",
    "        b[i] = b[i-1] + a[i]\n",
    "\n",
    "    return b\n",
    "\n",
    "\n",
    "@njit\n",
    "def f(x,v,t,l,alpha):\n",
    "     k2= 1/(l-1)\n",
    "     \n",
    "     xIntoLeft = np.roll(x,-1)\n",
    "     xIntoRight = np.roll(x,1)\n",
    "     xIntoLeft[-1] = 0\n",
    "     xIntoRight[0] = 0\n",
    "     return np.where(v==0,\n",
    "     np.where(np.abs(-x*(2*k1 + k2) + (xIntoRight + xIntoLeft)*k1 + k2*u*t) < F0, -x*(2*k1 + k2) + (xIntoRight + xIntoLeft)*k1 + k2*u*t ,F0*(1-eps) ),\n",
    "     F0*(1-eps)/(1+alpha*np.abs(v)))\n",
    "\n",
    "\n",
    "@njit\n",
    "def acc(x,v,t,l,alpha):\n",
    "    k2= 1/(l-1)\n",
    "    xIntoLeft = np.roll(x,-1)\n",
    "    xIntoRight = np.roll(x,1)\n",
    "    xIntoLeft[-1] = 0\n",
    "    xIntoRight[0] = 0\n",
    "\n",
    "    return (-x*(2*k1 + k2) + (xIntoRight + xIntoLeft)*k1 + k2*u*t - f(x,v,t,l,alpha) )/m\n",
    "\n",
    "\n",
    "\n",
    "@njit\n",
    "def tenstion(x,v,t,l,alpha):\n",
    "    return m*acc(x,v,t,l,alpha) + f(x,v,t,l,alpha)\n",
    "\n",
    "\n",
    "@njit\n",
    "def step(x,v,t,l,alpha):\n",
    "    k2= 1/(l-1)\n",
    "\n",
    "    if np.all(v==0):\n",
    "        t += (F0-np.max(tenstion(x,v,t,l,alpha)))/(k2*u)\n",
    "\n",
    "\n",
    "        k_1 = v\n",
    "        l_1 = acc(x,v,t,l,alpha)\n",
    "\n",
    "        k_2 = v + l_1*h/2\n",
    "        l_2 = acc(x+k_1*h/2,v + l_1*h/2,t + h/2,l,alpha)\n",
    "\n",
    "        k_3 = v + l_2*h/2\n",
    "        l_3 = acc(x+k_2*h/2,v + l_2*h/2,t + h/2,l,alpha)\n",
    "\n",
    "        k_4 = v + l_3/2\n",
    "        l_4 = acc(x+k_3*h,v + l_3*h, t + h,l,alpha)\n",
    "\n",
    "        x = x +  (k_1 + 2*k_2 + 2*k_3 + k_4)*h/6\n",
    "        v = v +  (l_1 + 2*l_2 + 2*l_3 + l_4)*h/6\n",
    "\n",
    "        v = np.where(v<0, 0, v)\n",
    "        \n",
    "\n",
    "    else: \n",
    "        k_1 = v\n",
    "        l_1 = acc(x,v,t,l,alpha)\n",
    "\n",
    "        k_2 = v + l_1*h/2\n",
    "        l_2 = acc(x+k_1*h/2,v + l_1*h/2,t + h/2,l,alpha)\n",
    "\n",
    "        k_3 = v + l_2*h/2\n",
    "        l_3 = acc(x+k_2*h/2,v + l_2*h/2,t + h/2,l,alpha)\n",
    "\n",
    "        k_4 = v + l_3/2\n",
    "        l_4 = acc(x+k_3*h,v + l_3*h, t + h,l,alpha)\n",
    "\n",
    "        x = x +  (k_1 + 2*k_2 + 2*k_3 + k_4)*h/6\n",
    "        v = v +  (l_1 + 2*l_2 + 2*l_3 + l_4)*h/6\n",
    "\n",
    "        v = np.where(v<0, 0, v)\n",
    "\n",
    "    return x, v,t+h\n",
    "\n",
    "@njit(cache=True)\n",
    "def np_any_axis1(x):\n",
    "    \"\"\"Numba compatible version of np.any(x, axis=1).\"\"\"\n",
    "    out = np.zeros(x.shape[0], dtype=np.bool8)\n",
    "    for i in range(x.shape[1]):\n",
    "        out = np.logical_or(out, x[:, i])\n",
    "    return out\n",
    "\n",
    "\n",
    "@njit\n",
    "def run(x,v,t,steps,l,alpha):\n",
    "    xdata = np.zeros((steps,l),dtype=np.float64)\n",
    "    vdata = np.zeros((steps,l),dtype=np.float64)\n",
    "    tenstionData = np.zeros((steps,l),dtype=np.float64)\n",
    "    for i in range(steps):\n",
    "        x,v,t = step(x,v,t,l,alpha)\n",
    "        xdata[i] = x\n",
    "        vdata[i] = v\n",
    "        tenstionData[i] = tenstion(x,v,t,l,alpha)\n",
    "\n",
    "    slipping = np_any_axis1(vdata>0)\n",
    "\n",
    "    slippingR = np.roll(slipping,+1)\n",
    "    slippingL = np.roll(slipping,-1)\n",
    "\n",
    "    slippingR[0] = False\n",
    "    slippingL[-1] = False \n",
    "\n",
    "    ends  = np.logical_xor( slipping ,(slipping *slippingL))\n",
    "    starts  = np.logical_xor( slipping ,(slipping *slippingR))\n",
    "\n",
    "    totalX = np.sum(xdata,axis = 1)\n",
    "\n",
    "    eventsSize = totalX[np.argwhere(ends)[:,0]] - totalX[np.argwhere(starts)[:,0]]\n",
    "    eventsBlocks = np.sum(xdata[ends]!=xdata[starts],axis=1).reshape(-1,1)\n",
    "\n",
    "\n",
    "\n",
    "    arr1 = vdata>0\n",
    "    arr2 = arr1 > np.roll(arr1,1)\n",
    "    arr3 = np.sum(arr2,axis=1)\n",
    "    arr4 = sum2(arr3)\n",
    "\n",
    "    arr5 = arr4[np.argwhere(starts)[:,0]]\n",
    "    arr6 = arr4[np.argwhere(ends)[:,0]]\n",
    "\n",
    "    eventsBlocks2 = arr6-arr5\n",
    "\n",
    "\n",
    "    return x,v,t,eventsSize,eventsBlocks,eventsBlocks2,xdata,vdata,ends,tenstionData\n"
   ]
  },
  {
   "cell_type": "code",
   "execution_count": 26,
   "metadata": {},
   "outputs": [
    {
     "data": {
      "text/plain": [
       "array([1., 1., 1., ..., 1., 1., 1.])"
      ]
     },
     "execution_count": 26,
     "metadata": {},
     "output_type": "execute_result"
    }
   ],
   "source": [
    "np.loadtxt(\"dist_l=1.txt\")"
   ]
  },
  {
   "cell_type": "code",
   "execution_count": null,
   "metadata": {},
   "outputs": [],
   "source": [
    "import threading\n",
    "\n",
    "\n",
    "def print_cube(num):\n",
    "    print(\"Cube: {}\" .format(num * num * num))\n",
    "\n",
    "\n",
    "def print_square(num):\n",
    "    print(\"Square: {}\" .format(num * num))\n",
    "\n",
    "\n",
    "if __name__ ==\"__main__\":\n",
    "    t1 = threading.Thread(target=print_square, args=(10,))\n",
    "    t2 = threading.Thread(target=print_cube, args=(10,))\n",
    "\n",
    "    t1.start()\n",
    "    t2.start()\n",
    "\n",
    "    t1.join()\n",
    "    t2.join()\n",
    "\n",
    "    print(\"Done!\")"
   ]
  },
  {
   "cell_type": "markdown",
   "metadata": {},
   "source": [
    "# trying different alphas:"
   ]
  },
  {
   "cell_type": "code",
   "execution_count": 21,
   "metadata": {},
   "outputs": [],
   "source": [
    "alphas = np.array([10**i for i in range(-5,5)])"
   ]
  },
  {
   "cell_type": "code",
   "execution_count": 33,
   "metadata": {},
   "outputs": [
    {
     "name": "stdout",
     "output_type": "stream",
     "text": [
      "1e-05\n",
      "0.0001\n",
      "0.001\n",
      "0.01\n",
      "0.1\n",
      "1.0\n",
      "10.0\n",
      "100.0\n",
      "1000.0\n",
      "10000.0\n"
     ]
    }
   ],
   "source": [
    "for alpha in alphas:\n",
    "    x = 0.1*np.random.uniform(-1,1,L).astype(dtype=np.float64) \n",
    "    v = np.zeros(L,dtype=np.float64)\n",
    "    t = 0\n",
    "    x,v,t,eventsSize,eventsBlocks,eventsBlocks2,xdata,vdata,ends,tenstionData = run(x,v,t,1_000_000,L,alpha)\n",
    "    Ts = tenstionData[ends][np.argwhere(eventsBlocks[:] >= 50)[:,0]]\n",
    "    np.save(\"TsForAlpha=\"+str(alpha),Ts)\n",
    "    print(alpha)"
   ]
  },
  {
   "cell_type": "code",
   "execution_count": null,
   "metadata": {},
   "outputs": [],
   "source": [
    "Ts = np.load(\"TsForAlpha=10000.0.npy\")\n",
    "plt.hist(Ts.reshape(-1),bins= 40,density=True)\n",
    "plt.show()\n",
    "plt.bar(np.arange(50),np.mean(Ts,axis=0))\n",
    "plt.show()\n",
    "\n",
    "Ts = np.load(\"TsForAlpha=1000.0.npy\")\n",
    "plt.hist(Ts.reshape(-1),bins= 40,density=True)\n",
    "plt.show()\n",
    "plt.bar(np.arange(50),np.mean(Ts,axis=0))\n",
    "plt.show()\n",
    "\n",
    "Ts = np.load(\"TsForAlpha=100.0.npy\")\n",
    "plt.hist(Ts.reshape(-1),bins= 40,density=True)\n",
    "plt.show()\n",
    "plt.bar(np.arange(50),np.mean(Ts,axis=0))\n",
    "plt.show()\n",
    "\n",
    "Ts = np.load(\"TsForAlpha=10.0.npy\")\n",
    "plt.hist(Ts.reshape(-1),bins= 40,density=True)\n",
    "plt.show()\n",
    "plt.bar(np.arange(50),np.mean(Ts,axis=0))\n",
    "plt.show()\n",
    "\n",
    "\n",
    "Ts = np.load(\"TsForAlpha=1.0.npy\")\n",
    "plt.hist(Ts.reshape(-1),bins= 40,density=True)\n",
    "plt.show()\n",
    "plt.bar(np.arange(50),np.mean(Ts,axis=0))\n",
    "plt.show()\n",
    "\n",
    "Ts = np.load(\"TsForAlpha=0.1.npy\")\n",
    "plt.hist(Ts.reshape(-1),bins= 40,density=True)\n",
    "plt.show()\n",
    "plt.bar(np.arange(50),np.mean(Ts,axis=0))\n",
    "plt.show()\n",
    "\n",
    "\n",
    "Ts = np.load(\"TsForAlpha=0.01.npy\")\n",
    "plt.hist(Ts.reshape(-1),bins= 40,density=True)\n",
    "plt.show()\n",
    "plt.bar(np.arange(50),np.mean(Ts,axis=0))\n",
    "plt.show()\n",
    "\n",
    "Ts = np.load(\"TsForAlpha=0.001.npy\")\n",
    "plt.hist(Ts.reshape(-1),bins= 40,density=True)\n",
    "plt.show()\n",
    "plt.bar(np.arange(50),np.mean(Ts,axis=0))\n",
    "plt.show()\n",
    "\n",
    "Ts = np.load(\"TsForAlpha=0.0001.npy\")\n",
    "plt.hist(Ts.reshape(-1),bins= 40,density=True)\n",
    "plt.show()\n",
    "plt.bar(np.arange(50),np.mean(Ts,axis=0))\n",
    "plt.show()\n",
    "\n",
    "Ts = np.load(\"TsForAlpha=1e-05.npy\")\n",
    "plt.hist(Ts.reshape(-1),bins= 40,density=True)\n",
    "plt.show()\n",
    "plt.bar(np.arange(50),np.mean(Ts,axis=0))\n",
    "plt.show()"
   ]
  },
  {
   "cell_type": "markdown",
   "metadata": {},
   "source": [
    "# Tension Data "
   ]
  },
  {
   "cell_type": "code",
   "execution_count": 13,
   "metadata": {},
   "outputs": [
    {
     "name": "stderr",
     "output_type": "stream",
     "text": [
      "/tmp/ipykernel_33823/1043351592.py:103: NumbaExperimentalFeatureWarning: \u001b[1m\u001b[1m\u001b[1m\u001b[1m\u001b[1m\u001b[1m\u001b[1m\u001b[1mUse of isinstance() detected. This is an experimental feature.\u001b[0m\u001b[0m\u001b[0m\u001b[0m\u001b[0m\u001b[0m\u001b[0m\u001b[0m\n",
      "  x,v,t = step(x,v,t,l,alpha)\n"
     ]
    }
   ],
   "source": [
    "x = 0.1*np.random.uniform(-1,1,L).astype(dtype=np.float64) \n",
    "v = np.zeros(L,dtype=np.float64)\n",
    "t = 0\n",
    "x,v,t,eventsSize,eventsBlocks,eventsBlocks2,xdata,vdata,ends,tenstionData = run(x,v,t,1_000_000,L,1)\n"
   ]
  },
  {
   "cell_type": "code",
   "execution_count": 29,
   "metadata": {},
   "outputs": [
    {
     "data": {
      "image/png": "[encoded data removed]",
      "text/plain": [
       "<Figure size 640x480 with 1 Axes>"
      ]
     },
     "metadata": {},
     "output_type": "display_data"
    },
    {
     "data": {
      "image/png": "[encoded data removed]",
      "text/plain": [
       "<Figure size 640x480 with 1 Axes>"
      ]
     },
     "metadata": {},
     "output_type": "display_data"
    },
    {
     "data": {
      "image/png": "[encoded data removed]",
      "text/plain": [
       "<Figure size 640x480 with 1 Axes>"
      ]
     },
     "metadata": {},
     "output_type": "display_data"
    },
    {
     "data": {
      "image/png": "[encoded data removed]",
      "text/plain": [
       "<Figure size 640x480 with 1 Axes>"
      ]
     },
     "metadata": {},
     "output_type": "display_data"
    }
   ],
   "source": [
    "Ts = tenstionData[ends][np.argwhere(eventsBlocks2[:] >= 500)[:,0]]\n",
    "plt.hist(Ts.reshape(-1),bins= 40,density=True)\n",
    "plt.show()\n",
    "\n",
    "\n",
    "plt.bar(np.arange(L),np.mean(Ts,axis=0))\n",
    "plt.show()\n",
    "\n",
    "plt.plot(np.arange(100),eventsSize[:100])\n",
    "plt.show()\n",
    "\n",
    "plt.plot(np.arange(100),np.log(eventsSize[:100]))\n",
    "plt.show()"
   ]
  },
  {
   "cell_type": "markdown",
   "metadata": {},
   "source": [
    "# TsData "
   ]
  },
  {
   "cell_type": "code",
   "execution_count": null,
   "metadata": {},
   "outputs": [],
   "source": [
    "TsData= np.array([]).reshape((-1,50))\n",
    "\n",
    "for _ in tqdm(range(2000)):\n",
    "    x,v,t,eventsSize,eventsBlocks,eventsBlocks2,xdata,vdata,ends,tenstionData = run(x,v,t,1_000_000,L,alpha)\n",
    "    Ts = tenstionData[ends][np.argwhere(eventsBlocks2[:] >= 500)[:,0]]\n",
    "    TsData = np.concatenate([TsData,Ts],axis = 0)\n",
    "\n",
    "\n",
    "np.save(f\"TsDataAlpha={alpha},L={L}\",TsData)\n"
   ]
  },
  {
   "cell_type": "markdown",
   "metadata": {},
   "source": [
    "# P_l_(l,t)"
   ]
  },
  {
   "cell_type": "code",
   "execution_count": null,
   "metadata": {},
   "outputs": [],
   "source": [
    "\n",
    "h = 0.01\n",
    "minimum = np.min(Tsdata) - 10 *h\n",
    "steps = np.round((1 - minimum)/h).astype(np.int64)\n",
    "p_l_t_data = np.zeros((steps,L))\n",
    "\n",
    "thersold_by_time = 1\n",
    "for i in range(steps):\n",
    "    is_above = TsData >= thersold_by_time \n",
    "\n",
    "    is_above_R = np.roll(is_above,+1,axis=1)\n",
    "    is_above_L = np.roll(is_above,-1,axis=1)\n",
    "\n",
    "    is_above_R[:,0] = False\n",
    "    is_above_L[:,-1] = False \n",
    "\n",
    "    is_above_ends  = np.logical_xor( is_above ,(is_above *is_above_L))\n",
    "    is_above_starts  = np.logical_xor( is_above ,(is_above * is_above_R))\n",
    "    # lengths = np.argwhere(is_above_ends) - np.argwhere(is_above_starts) \n",
    "    lengths = np.nonzero(is_above_ends)[1] - np.nonzero(is_above_starts)[1]\n",
    "    # p_l_t_data[i,lengths[:,0]] += 1\n",
    "\n",
    "    for length in lengths:\n",
    "        p_l_t_data[i,length] += 1\n",
    "\n",
    "    thersold_by_time -= h\n",
    "\n",
    "    print(i)\n",
    "\n",
    "\n",
    "np.save(f\"p_l_t_data={alpha},L={L}\",p_l_t_data)\n"
   ]
  },
  {
   "cell_type": "code",
   "execution_count": null,
   "metadata": {},
   "outputs": [],
   "source": [
    "plt.plot(np.arange(L),p_l_t_data[50])\n",
    "plt.show()\n",
    "\n",
    "plt.plot(np.log(np.arange(1,L+1)),np.log(np.mean(p_l_t_data,axis=0)))\n",
    "plt.show()\n",
    "\n",
    "print(scipy.stats.linregress(np.log(np.arange(1,L+1)),np.log(np.mean(p_l_t_data[:step],axis=0))))\n",
    "\n",
    "\n",
    "for i in range(1,L):\n",
    "    step = i\n",
    "    plt.plot(np.log(np.arange(1,L+1)),np.log(p_l_t_data[step]))\n",
    "plt.show()\n",
    "\n",
    "step = 50\n",
    "plt.plot(np.arange(L),p_l_t_data[step])\n",
    "plt.show()\n",
    "plt.plot(np.log(np.arange(1,L+1)),np.log(np.mean(p_l_t_data[:100],axis=0)))\n",
    "scipy.stats.linregress(np.log(np.arange(1,L+1)),np.log(np.mean(p_l_t_data[:50],axis=0)))\n"
   ]
  },
  {
   "cell_type": "markdown",
   "metadata": {},
   "source": [
    "# trying for different Ls "
   ]
  },
  {
   "cell_type": "code",
   "execution_count": 31,
   "metadata": {},
   "outputs": [
    {
     "data": {
      "text/plain": [
       "((20,),\n",
       " array([ 54,  60,  66,  73,  81,  90,  99, 109, 121, 134, 148, 164, 181,\n",
       "        200, 221, 244, 270, 298, 330, 365]))"
      ]
     },
     "execution_count": 31,
     "metadata": {},
     "output_type": "execute_result"
    }
   ],
   "source": [
    "ls = np.array(np.exp(np.arange(4,6,0.1)),dtype = np.int64)\n",
    "ls.shape,ls"
   ]
  },
  {
   "cell_type": "code",
   "execution_count": 21,
   "metadata": {},
   "outputs": [
    {
     "name": "stderr",
     "output_type": "stream",
     "text": [
      "100%|██████████| 30/30 [07:08<00:00, 14.27s/it]\n"
     ]
    },
    {
     "name": "stdout",
     "output_type": "stream",
     "text": [
      "0\n"
     ]
    },
    {
     "name": "stderr",
     "output_type": "stream",
     "text": [
      "100%|██████████| 30/30 [07:08<00:00, 14.29s/it]\n"
     ]
    },
    {
     "name": "stdout",
     "output_type": "stream",
     "text": [
      "1\n"
     ]
    },
    {
     "name": "stderr",
     "output_type": "stream",
     "text": [
      "100%|██████████| 30/30 [07:22<00:00, 14.74s/it]\n"
     ]
    },
    {
     "name": "stdout",
     "output_type": "stream",
     "text": [
      "2\n"
     ]
    },
    {
     "name": "stderr",
     "output_type": "stream",
     "text": [
      "100%|██████████| 30/30 [07:59<00:00, 16.00s/it]\n"
     ]
    },
    {
     "name": "stdout",
     "output_type": "stream",
     "text": [
      "3\n"
     ]
    },
    {
     "name": "stderr",
     "output_type": "stream",
     "text": [
      "100%|██████████| 30/30 [09:15<00:00, 18.51s/it]\n"
     ]
    },
    {
     "name": "stdout",
     "output_type": "stream",
     "text": [
      "4\n"
     ]
    },
    {
     "name": "stderr",
     "output_type": "stream",
     "text": [
      "100%|██████████| 30/30 [09:56<00:00, 19.88s/it]\n"
     ]
    },
    {
     "name": "stdout",
     "output_type": "stream",
     "text": [
      "5\n"
     ]
    },
    {
     "name": "stderr",
     "output_type": "stream",
     "text": [
      "100%|██████████| 30/30 [09:36<00:00, 19.21s/it]\n"
     ]
    },
    {
     "name": "stdout",
     "output_type": "stream",
     "text": [
      "6\n"
     ]
    },
    {
     "name": "stderr",
     "output_type": "stream",
     "text": [
      "100%|██████████| 30/30 [10:12<00:00, 20.41s/it]\n"
     ]
    },
    {
     "name": "stdout",
     "output_type": "stream",
     "text": [
      "7\n"
     ]
    },
    {
     "name": "stderr",
     "output_type": "stream",
     "text": [
      "100%|██████████| 30/30 [12:11<00:00, 24.39s/it]\n"
     ]
    },
    {
     "name": "stdout",
     "output_type": "stream",
     "text": [
      "8\n"
     ]
    },
    {
     "name": "stderr",
     "output_type": "stream",
     "text": [
      "100%|██████████| 30/30 [13:04<00:00, 26.15s/it]\n"
     ]
    },
    {
     "name": "stdout",
     "output_type": "stream",
     "text": [
      "9\n"
     ]
    },
    {
     "name": "stderr",
     "output_type": "stream",
     "text": [
      "100%|██████████| 30/30 [14:24<00:00, 28.82s/it]\n"
     ]
    },
    {
     "name": "stdout",
     "output_type": "stream",
     "text": [
      "10\n"
     ]
    },
    {
     "name": "stderr",
     "output_type": "stream",
     "text": [
      "100%|██████████| 30/30 [16:02<00:00, 32.09s/it]\n"
     ]
    },
    {
     "name": "stdout",
     "output_type": "stream",
     "text": [
      "11\n"
     ]
    },
    {
     "name": "stderr",
     "output_type": "stream",
     "text": [
      "100%|██████████| 30/30 [16:56<00:00, 33.88s/it]\n"
     ]
    },
    {
     "name": "stdout",
     "output_type": "stream",
     "text": [
      "12\n"
     ]
    },
    {
     "name": "stderr",
     "output_type": "stream",
     "text": [
      "100%|██████████| 30/30 [18:26<00:00, 36.89s/it]\n"
     ]
    },
    {
     "name": "stdout",
     "output_type": "stream",
     "text": [
      "13\n"
     ]
    },
    {
     "name": "stderr",
     "output_type": "stream",
     "text": [
      "100%|██████████| 30/30 [20:08<00:00, 40.27s/it]\n"
     ]
    },
    {
     "name": "stdout",
     "output_type": "stream",
     "text": [
      "14\n"
     ]
    },
    {
     "name": "stderr",
     "output_type": "stream",
     "text": [
      "100%|██████████| 30/30 [21:15<00:00, 42.53s/it]\n"
     ]
    },
    {
     "name": "stdout",
     "output_type": "stream",
     "text": [
      "15\n"
     ]
    },
    {
     "name": "stderr",
     "output_type": "stream",
     "text": [
      "100%|██████████| 30/30 [24:01<00:00, 48.05s/it]\n"
     ]
    },
    {
     "name": "stdout",
     "output_type": "stream",
     "text": [
      "16\n"
     ]
    },
    {
     "name": "stderr",
     "output_type": "stream",
     "text": [
      "100%|██████████| 30/30 [26:19<00:00, 52.64s/it]\n"
     ]
    },
    {
     "name": "stdout",
     "output_type": "stream",
     "text": [
      "17\n"
     ]
    },
    {
     "name": "stderr",
     "output_type": "stream",
     "text": [
      "100%|██████████| 30/30 [28:34<00:00, 57.15s/it]\n"
     ]
    },
    {
     "name": "stdout",
     "output_type": "stream",
     "text": [
      "18\n"
     ]
    },
    {
     "name": "stderr",
     "output_type": "stream",
     "text": [
      "100%|██████████| 30/30 [31:06<00:00, 62.20s/it]"
     ]
    },
    {
     "name": "stdout",
     "output_type": "stream",
     "text": [
      "19\n"
     ]
    },
    {
     "name": "stderr",
     "output_type": "stream",
     "text": [
      "\n"
     ]
    }
   ],
   "source": [
    "ls = np.array(np.exp(np.arange(4,6,0.1)),dtype = np.int64)\n",
    "means1 = np.zeros_like(ls)\n",
    "means2 = np.zeros_like(ls)\n",
    "means3 = np.zeros_like(ls)\n",
    "\n",
    "var1 = np.zeros_like(ls)\n",
    "var2 = np.zeros_like(ls)\n",
    "var3 = np.zeros_like(ls)\n",
    "\n",
    "for i in range(ls.shape[0]):\n",
    "\n",
    "    l = ls[i]\n",
    "\n",
    "    x = 0.1*np.random.uniform(-1,1,l).astype(dtype=np.float64) \n",
    "    v = np.zeros(l,dtype=np.float64)\n",
    "    t = 0\n",
    "\n",
    "\n",
    "    for _ in tqdm(range(30)):\n",
    "        x,v,t,eventsSize,eventsBlocks,eventsBlocks2= run(x,v,t,1_000_000,l)\n",
    "\n",
    "        means1[i] += np.mean(eventsSize)\n",
    "        means2[i] += np.mean(eventsBlocks)\n",
    "        means3[i] += np.mean(eventsBlocks2)\n",
    "\n",
    "\n",
    "    \n",
    "    print(i)\n",
    "\n",
    "    "
   ]
  },
  {
   "cell_type": "code",
   "execution_count": 22,
   "metadata": {},
   "outputs": [
    {
     "data": {
      "text/plain": [
       "[<matplotlib.lines.Line2D at 0x7ff2a8942d90>]"
      ]
     },
     "execution_count": 22,
     "metadata": {},
     "output_type": "execute_result"
    },
    {
     "data": {
      "image/png": "[encoded data removed]",
      "text/plain": [
       "<Figure size 640x480 with 1 Axes>"
      ]
     },
     "metadata": {},
     "output_type": "display_data"
    }
   ],
   "source": [
    "plt.plot(ls,means1)\n",
    "plt.plot(ls,means2)\n",
    "plt.plot(ls,means3)\n",
    "\n",
    "plt.show()\n",
    "\n",
    "plt.plot(np.log(ls),np.log(means1))\n",
    "plt.plot(np.log(ls),np.log(means2))\n",
    "plt.plot(np.log(ls),np.log(means3))\n",
    "\n",
    "plt.show()\n",
    "\n",
    "print(scipy.stats.linregress(np.log(ls),np.log(means1)))\n",
    "\n",
    "print(scipy.stats.linregress(np.log(ls),np.log(means2)))\n",
    "\n",
    "print(scipy.stats.linregress(np.log(ls),np.log(means3)))"
   ]
  },
  {
   "cell_type": "code",
   "execution_count": null,
   "metadata": {},
   "outputs": [],
   "source": []
  },
  {
   "cell_type": "code",
   "execution_count": null,
   "metadata": {},
   "outputs": [],
   "source": []
  },
  {
   "cell_type": "markdown",
   "metadata": {},
   "source": [
    "# parts close to thersold (1-eps2)"
   ]
  },
  {
   "cell_type": "code",
   "execution_count": null,
   "metadata": {},
   "outputs": [],
   "source": [
    "dataDic1 = {}\n",
    "dataDic2 = {}\n",
    "dataDic3 = {}\n",
    "\n",
    "for i in range(0,L+1):\n",
    "    dataDic1[i] = []\n",
    "    dataDic2[i] = []\n",
    "    dataDic3[i] = []"
   ]
  },
  {
   "cell_type": "code",
   "execution_count": 19,
   "metadata": {},
   "outputs": [
    {
     "name": "stdout",
     "output_type": "stream",
     "text": [
      "0\n",
      "1\n",
      "2\n",
      "3\n",
      "4\n",
      "5\n",
      "6\n",
      "7\n",
      "8\n",
      "9\n",
      "10\n",
      "11\n",
      "12\n",
      "13\n",
      "14\n",
      "15\n",
      "16\n",
      "17\n",
      "18\n",
      "19\n",
      "20\n",
      "21\n",
      "22\n",
      "23\n",
      "24\n",
      "25\n",
      "26\n",
      "27\n",
      "28\n",
      "29\n",
      "30\n",
      "31\n",
      "32\n",
      "33\n",
      "34\n",
      "35\n",
      "36\n",
      "37\n",
      "38\n",
      "39\n",
      "40\n",
      "41\n",
      "42\n",
      "43\n",
      "44\n",
      "45\n",
      "46\n",
      "47\n",
      "48\n",
      "49\n",
      "50\n",
      "51\n",
      "52\n",
      "53\n",
      "54\n",
      "55\n",
      "56\n",
      "57\n",
      "58\n",
      "59\n",
      "60\n",
      "61\n",
      "62\n",
      "63\n",
      "64\n",
      "65\n",
      "66\n",
      "67\n",
      "68\n",
      "69\n",
      "70\n",
      "71\n",
      "72\n",
      "73\n",
      "74\n",
      "75\n",
      "76\n",
      "77\n",
      "78\n",
      "79\n",
      "80\n",
      "81\n",
      "82\n",
      "83\n",
      "84\n",
      "85\n",
      "86\n",
      "87\n",
      "88\n",
      "89\n",
      "90\n",
      "91\n",
      "92\n",
      "93\n",
      "94\n",
      "95\n",
      "96\n",
      "97\n",
      "98\n",
      "99\n",
      "100\n",
      "101\n",
      "102\n",
      "103\n",
      "104\n",
      "105\n",
      "106\n",
      "107\n",
      "108\n",
      "109\n",
      "110\n",
      "111\n",
      "112\n",
      "113\n",
      "114\n",
      "115\n",
      "116\n",
      "117\n",
      "118\n",
      "119\n",
      "120\n",
      "121\n",
      "122\n",
      "123\n",
      "124\n",
      "125\n",
      "126\n",
      "127\n",
      "128\n",
      "129\n",
      "130\n",
      "131\n",
      "132\n",
      "133\n",
      "134\n",
      "135\n",
      "136\n",
      "137\n",
      "138\n",
      "139\n",
      "140\n",
      "141\n",
      "142\n",
      "143\n",
      "144\n",
      "145\n",
      "146\n",
      "147\n",
      "148\n",
      "149\n",
      "150\n",
      "151\n",
      "152\n",
      "153\n",
      "154\n",
      "155\n",
      "156\n",
      "157\n",
      "158\n",
      "159\n",
      "160\n",
      "161\n",
      "162\n",
      "163\n",
      "164\n",
      "165\n",
      "166\n",
      "167\n",
      "168\n",
      "169\n",
      "170\n",
      "171\n",
      "172\n",
      "173\n",
      "174\n",
      "175\n",
      "176\n",
      "177\n",
      "178\n",
      "179\n",
      "180\n",
      "181\n",
      "182\n",
      "183\n",
      "184\n",
      "185\n",
      "186\n",
      "187\n",
      "188\n",
      "189\n",
      "190\n",
      "191\n",
      "192\n",
      "193\n",
      "194\n",
      "195\n",
      "196\n",
      "197\n",
      "198\n",
      "199\n",
      "200\n",
      "201\n",
      "202\n",
      "203\n",
      "204\n",
      "205\n",
      "206\n",
      "207\n",
      "208\n",
      "209\n",
      "210\n",
      "211\n",
      "212\n",
      "213\n",
      "214\n",
      "215\n",
      "216\n",
      "217\n",
      "218\n",
      "219\n",
      "220\n",
      "221\n",
      "222\n",
      "223\n",
      "224\n",
      "225\n",
      "226\n",
      "227\n",
      "228\n",
      "229\n",
      "230\n",
      "231\n",
      "232\n",
      "233\n",
      "234\n",
      "235\n",
      "236\n",
      "237\n",
      "238\n",
      "239\n",
      "240\n",
      "241\n",
      "242\n",
      "243\n",
      "244\n",
      "245\n",
      "246\n",
      "247\n",
      "248\n",
      "249\n",
      "250\n",
      "251\n",
      "252\n",
      "253\n",
      "254\n",
      "255\n",
      "256\n",
      "257\n",
      "258\n",
      "259\n",
      "260\n",
      "261\n",
      "262\n",
      "263\n",
      "264\n",
      "265\n",
      "266\n",
      "267\n",
      "268\n",
      "269\n",
      "270\n",
      "271\n",
      "272\n",
      "273\n",
      "274\n",
      "275\n",
      "276\n",
      "277\n",
      "278\n",
      "279\n",
      "280\n",
      "281\n",
      "282\n",
      "283\n",
      "284\n",
      "285\n",
      "286\n",
      "287\n",
      "288\n",
      "289\n",
      "290\n",
      "291\n",
      "292\n",
      "293\n",
      "294\n",
      "295\n",
      "296\n",
      "297\n",
      "298\n",
      "299\n",
      "300\n",
      "301\n",
      "302\n",
      "303\n",
      "304\n",
      "305\n",
      "306\n",
      "307\n",
      "308\n",
      "309\n",
      "310\n",
      "311\n",
      "312\n",
      "313\n",
      "314\n",
      "315\n",
      "316\n",
      "317\n",
      "318\n",
      "319\n",
      "320\n",
      "321\n",
      "322\n",
      "323\n",
      "324\n",
      "325\n",
      "326\n",
      "327\n",
      "328\n",
      "329\n",
      "330\n",
      "331\n",
      "332\n",
      "333\n",
      "334\n",
      "335\n",
      "336\n",
      "337\n",
      "338\n",
      "339\n",
      "340\n",
      "341\n",
      "342\n",
      "343\n",
      "344\n",
      "345\n",
      "346\n",
      "347\n",
      "348\n",
      "349\n",
      "350\n",
      "351\n",
      "352\n",
      "353\n",
      "354\n",
      "355\n",
      "356\n",
      "357\n",
      "358\n",
      "359\n",
      "360\n",
      "361\n",
      "362\n",
      "363\n",
      "364\n",
      "365\n",
      "366\n",
      "367\n",
      "368\n",
      "369\n",
      "370\n",
      "371\n",
      "372\n",
      "373\n",
      "374\n",
      "375\n",
      "376\n",
      "377\n",
      "378\n",
      "379\n",
      "380\n",
      "381\n",
      "382\n",
      "383\n",
      "384\n",
      "385\n",
      "386\n",
      "387\n",
      "388\n",
      "389\n",
      "390\n",
      "391\n",
      "392\n",
      "393\n",
      "394\n",
      "395\n",
      "396\n",
      "397\n",
      "398\n",
      "399\n"
     ]
    }
   ],
   "source": [
    "for j in range(400):\n",
    "    x,v,t,eventsSize,eventsBlocks,eventsBlocks2,ls= run(x,v,t,5_000_000)\n",
    "\n",
    "    # time = str(datetime.datetime.now())\n",
    "    \n",
    "    # np.save(\"eventsSize-\"+time,eventsSize)\n",
    "    # np.save(\"eventsBlocks-\"+time,eventsBlocks)\n",
    "    # np.save(\"eventsBlocks2-\"+time,eventsBlocks2)\n",
    "    # np.save(\"ls-\"+time,ls)\n",
    "\n",
    "    for i in range(eventsSize.shape[0]):\n",
    "        dataDic1[int(ls[i])].append(float(eventsSize[i]))\n",
    "        dataDic2[int(ls[i])].append(float(eventsBlocks[i]))\n",
    "        dataDic3[int(ls[i])].append(float(eventsBlocks2[i]))\n",
    "\n",
    "    print(j)"
   ]
  },
  {
   "cell_type": "code",
   "execution_count": 186,
   "metadata": {},
   "outputs": [
    {
     "name": "stdout",
     "output_type": "stream",
     "text": [
      "10022148\n"
     ]
    }
   ],
   "source": [
    "num = 0\n",
    "for i in list(dataDic1.values()):\n",
    "    num += len(i)\n",
    "\n",
    "print(num)"
   ]
  },
  {
   "cell_type": "code",
   "execution_count": 21,
   "metadata": {},
   "outputs": [],
   "source": [
    "\n",
    "with open(\"dataDics6_1.json\", \"w\") as outfile: \n",
    "    json.dump(dataDic1, outfile)\n",
    "\n",
    "with open(\"dataDics6_2.json\", \"w\") as outfile: \n",
    "    json.dump(dataDic2, outfile)\n",
    "\n",
    "with open(\"dataDics6_3.json\", \"w\") as outfile: \n",
    "    json.dump(dataDic3, outfile)"
   ]
  },
  {
   "cell_type": "code",
   "execution_count": 185,
   "metadata": {},
   "outputs": [],
   "source": [
    "with open('dataDics6_1.json') as json_data:\n",
    "    dataDic1 = json.load(json_data)\n",
    "    json_data.close()\n",
    "\n",
    "with open('dataDics6_2.json') as json_data:\n",
    "    dataDic2 = json.load(json_data)\n",
    "    json_data.close()\n",
    "\n",
    "\n",
    "with open('dataDics6_3.json') as json_data:\n",
    "    dataDic3 = json.load(json_data)\n",
    "    json_data.close()"
   ]
  },
  {
   "cell_type": "code",
   "execution_count": 187,
   "metadata": {},
   "outputs": [],
   "source": [
    "means1 = np.zeros(L+1)\n",
    "vars1 = np.zeros(L+1)\n",
    "\n",
    "means2 = np.zeros(L+1)\n",
    "vars2 = np.zeros(L+1)\n",
    "\n",
    "means3 = np.zeros(L+1)\n",
    "vars3 = np.zeros(L+1)\n",
    "\n",
    "for i in range(L+1):\n",
    "    means1[i] = np.mean(dataDic1[str(i)])\n",
    "    vars1[i]=  np.var(dataDic1[str(i)])\n",
    "\n",
    "    means2[i] = np.mean(dataDic2[str(i)])\n",
    "    vars2[i]=  np.var(dataDic2[str(i)])\n",
    "\n",
    "    means3[i] = np.mean(dataDic3[str(i)])\n",
    "    vars3[i]=  np.var(dataDic3[str(i)])\n",
    "    \n"
   ]
  },
  {
   "cell_type": "code",
   "execution_count": 188,
   "metadata": {},
   "outputs": [
    {
     "data": {
      "text/plain": [
       "[<matplotlib.lines.Line2D at 0x7f99fec26490>]"
      ]
     },
     "execution_count": 188,
     "metadata": {},
     "output_type": "execute_result"
    },
    {
     "data": {
      "image/png": "[encoded data removed]",
      "text/plain": [
       "<Figure size 640x480 with 1 Axes>"
      ]
     },
     "metadata": {},
     "output_type": "display_data"
    }
   ],
   "source": [
    "plt.plot(np.arange(L+1),means1)\n",
    "plt.plot(np.arange(L+1),means2)\n",
    "plt.plot(np.arange(L+1),means3)"
   ]
  },
  {
   "cell_type": "code",
   "execution_count": 189,
   "metadata": {},
   "outputs": [
    {
     "name": "stderr",
     "output_type": "stream",
     "text": [
      "/tmp/ipykernel_33823/646502187.py:1: RuntimeWarning: divide by zero encountered in log\n",
      "  plt.scatter(np.log(np.arange(L+1)),np.log(means1))\n",
      "/tmp/ipykernel_33823/646502187.py:2: RuntimeWarning: divide by zero encountered in log\n",
      "  plt.scatter(np.log(np.arange(L+1)),np.log(means2))\n",
      "/tmp/ipykernel_33823/646502187.py:3: RuntimeWarning: divide by zero encountered in log\n",
      "  plt.scatter(np.log(np.arange(L+1)),np.log(means3))\n"
     ]
    },
    {
     "data": {
      "text/plain": [
       "[<matplotlib.lines.Line2D at 0x7f99ff35ef90>]"
      ]
     },
     "execution_count": 189,
     "metadata": {},
     "output_type": "execute_result"
    },
    {
     "data": {
      "image/png": "[encoded data removed]",
      "text/plain": [
       "<Figure size 640x480 with 1 Axes>"
      ]
     },
     "metadata": {},
     "output_type": "display_data"
    }
   ],
   "source": [
    "plt.scatter(np.log(np.arange(L+1)),np.log(means1))\n",
    "plt.scatter(np.log(np.arange(L+1)),np.log(means2))\n",
    "plt.scatter(np.log(np.arange(L+1)),np.log(means3))\n",
    "\n",
    "s1,i1,_,_,_ = scipy.stats.linregress(np.log(np.arange(1,L+1)),np.log(means1[1:]))\n",
    "s2,i2,_,_,_ = scipy.stats.linregress(np.log(np.arange(1,L+1)),np.log(means2[1:]))\n",
    "s3,i3,_,_,_ = scipy.stats.linregress(np.log(np.arange(1,L+1)),np.log(means3[1:]))\n",
    "\n",
    "plt.plot([0,4],[i1,i1+4*s1])\n",
    "plt.plot([0,4],[i2,i2+4*s2])\n",
    "plt.plot([0,4],[i3,i3+4*s3])"
   ]
  },
  {
   "cell_type": "code",
   "execution_count": 190,
   "metadata": {},
   "outputs": [
    {
     "name": "stdout",
     "output_type": "stream",
     "text": [
      "LinregressResult(slope=1.306649052469282, intercept=-3.2683115041606285, rvalue=0.9943350735555948, pvalue=5.590183682534151e-19, stderr=0.032921995235396254, intercept_stderr=0.07440835568528668)\n",
      "LinregressResult(slope=0.6876975122734633, intercept=1.1146525218839045, rvalue=0.9984431781405178, pvalue=5.07294858173191e-24, stderr=0.009055307640957695, intercept_stderr=0.02046627329146944)\n",
      "LinregressResult(slope=0.5526080393638697, intercept=4.0281864442380115, rvalue=0.9986686136122446, pvalue=1.2422238282512795e-24, stderr=0.006727938263512038, intercept_stderr=0.01520609002463542)\n"
     ]
    }
   ],
   "source": [
    "print(scipy.stats.linregress(np.log(np.arange(1,21)),np.log(means1[1:21])))\n",
    "print(scipy.stats.linregress(np.log(np.arange(1,21)),np.log(means2[1:21])))\n",
    "print(scipy.stats.linregress(np.log(np.arange(1,21)),np.log(means3[1:21])))"
   ]
  },
  {
   "cell_type": "code",
   "execution_count": 193,
   "metadata": {},
   "outputs": [
    {
     "data": {
      "text/plain": [
       "[<matplotlib.lines.Line2D at 0x7f99fe6d9490>]"
      ]
     },
     "execution_count": 193,
     "metadata": {},
     "output_type": "execute_result"
    },
    {
     "data": {
      "image/png": "[encoded data removed]",
      "text/plain": [
       "<Figure size 640x480 with 1 Axes>"
      ]
     },
     "metadata": {},
     "output_type": "display_data"
    }
   ],
   "source": [
    "plt.plot(np.arange(L+1),vars1)\n",
    "plt.plot(np.arange(L+1),vars2)\n",
    "plt.plot(np.arange(L+1),vars3)"
   ]
  },
  {
   "cell_type": "code",
   "execution_count": null,
   "metadata": {},
   "outputs": [],
   "source": [
    "for i in range(1,L+1):\n",
    "    plt.title(i)\n",
    "    fig = plt.Figure()\n",
    "    ax = plt.gca()\n",
    "\n",
    "    x,y = np.histogram(dataDic2.get(str(i)))\n",
    "    y = ((np.roll(y,-1) + y)/2)[:-1]\n",
    "    ax.scatter(y,x)\n",
    "    ax.set_yscale(\"log\")\n",
    "    plt.show()"
   ]
  },
  {
   "cell_type": "code",
   "execution_count": null,
   "metadata": {},
   "outputs": [],
   "source": [
    "for i in range(L+1):\n",
    "    plt.title(i)\n",
    "    plt.hist(dataDic2[i],log=True)\n",
    "    plt.show()"
   ]
  },
  {
   "cell_type": "code",
   "execution_count": null,
   "metadata": {},
   "outputs": [],
   "source": [
    "for i in range(L+1):\n",
    "    plt.title(i)\n",
    "    plt.hist(dataDic1[i],log=False)\n",
    "    plt.show()"
   ]
  },
  {
   "cell_type": "code",
   "execution_count": null,
   "metadata": {},
   "outputs": [],
   "source": [
    "for i in range(L+1):\n",
    "    plt.title(i)\n",
    "    plt.hist(dataDic3[i],log=False)\n",
    "    plt.show()"
   ]
  },
  {
   "cell_type": "code",
   "execution_count": 142,
   "metadata": {},
   "outputs": [
    {
     "data": {
      "text/plain": [
       "<BarContainer object of 15 artists>"
      ]
     },
     "execution_count": 142,
     "metadata": {},
     "output_type": "execute_result"
    },
    {
     "data": {
      "image/png": "[encoded data removed]",
      "text/plain": [
       "<Figure size 640x480 with 1 Axes>"
      ]
     },
     "metadata": {},
     "output_type": "display_data"
    }
   ],
   "source": [
    "plt.bar(np.arange(eventsSize.shape[0]),ls[:,0])\n",
    "plt.bar(np.arange(eventsSize.shape[0]),eventsBlocks[:,0])\n",
    "\n",
    "plt.show()\n",
    "\n",
    "plt.bar(np.arange(eventsSize.shape[0]),eventsBlocks[:,0])\n",
    "plt.bar(np.arange(eventsSize.shape[0]),ls[:,0])\n",
    "\n",
    "plt.show()\n"
   ]
  },
  {
   "cell_type": "markdown",
   "metadata": {},
   "source": [
    "# p_size_(size,blocks)"
   ]
  },
  {
   "cell_type": "code",
   "execution_count": 114,
   "metadata": {},
   "outputs": [
    {
     "name": "stdout",
     "output_type": "stream",
     "text": [
      "0\n",
      "1\n",
      "2\n",
      "3\n",
      "4\n",
      "5\n",
      "6\n",
      "7\n",
      "8\n",
      "9\n",
      "10\n",
      "11\n",
      "12\n",
      "13\n",
      "14\n",
      "15\n",
      "16\n",
      "17\n",
      "18\n",
      "19\n",
      "20\n",
      "21\n",
      "22\n",
      "23\n",
      "24\n",
      "25\n",
      "26\n",
      "27\n",
      "28\n",
      "29\n",
      "30\n",
      "31\n",
      "32\n",
      "33\n",
      "34\n",
      "35\n",
      "36\n",
      "37\n",
      "38\n",
      "39\n",
      "40\n",
      "41\n",
      "42\n",
      "43\n",
      "44\n",
      "45\n",
      "46\n",
      "47\n",
      "48\n",
      "49\n",
      "50\n",
      "51\n",
      "52\n",
      "53\n",
      "54\n",
      "55\n",
      "56\n",
      "57\n",
      "58\n",
      "59\n",
      "60\n",
      "61\n",
      "62\n",
      "63\n",
      "64\n",
      "65\n",
      "66\n",
      "67\n",
      "68\n",
      "69\n",
      "70\n",
      "71\n",
      "72\n",
      "73\n",
      "74\n",
      "75\n",
      "76\n",
      "77\n",
      "78\n",
      "79\n",
      "80\n",
      "81\n",
      "82\n",
      "83\n",
      "84\n",
      "85\n",
      "86\n",
      "87\n",
      "88\n",
      "89\n",
      "90\n",
      "91\n",
      "92\n",
      "93\n",
      "94\n",
      "95\n",
      "96\n",
      "97\n",
      "98\n",
      "99\n"
     ]
    }
   ],
   "source": [
    "x = 0.1*np.random.uniform(-1,1,L).astype(dtype=np.float64) \n",
    "v = np.zeros(L,dtype=np.float64)\n",
    "t = 0\n",
    "\n",
    "parts = 100\n",
    "steps = 1_000_000\n",
    "eventsSizes = np.array([])\n",
    "eventsBlocks = np.array([]).reshape((0,1))\n",
    "for p in range(parts):\n",
    "    x,v,t,eventsSize,eventsBlock,_ = run(x,v,t,steps)\n",
    "    eventsSizes = np.concatenate((eventsSizes,eventsSize))\n",
    "    eventsBlocks = np.concatenate((eventsBlocks,eventsBlock))\n",
    "    print(p)    \n",
    "\n",
    "dists = []\n",
    "for i in range(L):\n",
    "    dists.append(eventsSizes[(eventsBlocks==i)[:,0]])\n",
    "\n",
    "\n",
    "distsMean = np.zeros(L)\n",
    "distsVar = np.zeros(L)\n",
    "\n",
    "for i in range(0,L):\n",
    "    distsMean[i] = np.mean(dists[i])\n",
    "    distsVar[i] = np.var(dists[i])"
   ]
  },
  {
   "cell_type": "code",
   "execution_count": 132,
   "metadata": {},
   "outputs": [
    {
     "data": {
      "text/plain": [
       "50"
      ]
     },
     "execution_count": 132,
     "metadata": {},
     "output_type": "execute_result"
    }
   ],
   "source": [
    "plt.plot(np.arange(L),distsMean)\n",
    "plt.show()\n",
    "\n",
    "plt.plot(np.log(np.arange(1,L)),np.log(distsMean[1:]))\n",
    "plt.show()\n",
    "\n",
    "plt.plot(np.arange(L),distsVar)\n",
    "plt.show()\n",
    "\n",
    "print(scipy.stats.linregress(np.log(np.arange(1,L)),np.log(distsMean[1:])))"
   ]
  },
  {
   "cell_type": "code",
   "execution_count": null,
   "metadata": {},
   "outputs": [],
   "source": [
    "for i in range(0,L):\n",
    "    plt.title(i+1)\n",
    "    plt.hist(dists[i])\n",
    "    plt.show()"
   ]
  },
  {
   "cell_type": "markdown",
   "metadata": {},
   "source": [
    "# p_size_(size)"
   ]
  },
  {
   "cell_type": "code",
   "execution_count": 43,
   "metadata": {},
   "outputs": [
    {
     "data": {
      "image/png": "[encoded data removed]",
      "text/plain": [
       "<Figure size 640x480 with 1 Axes>"
      ]
     },
     "metadata": {},
     "output_type": "display_data"
    }
   ],
   "source": [
    "freq,size = np.histogram(eventsSize,bins=50)\n",
    "\n",
    "#slope , intercept, rvalue ,_,_= scipy.stats.linregress(np.log(size[:-1]),np.log(freq))\n",
    "\n",
    "plt.title(\"frequency vs size\")\n",
    "plt.xlabel(\"event size\")\n",
    "plt.ylabel(\"event frequency\")\n",
    "plt.scatter(np.log(size[:-1]),np.log(freq))\n",
    "#plt.plot([np.log(size[0]),np.log(size[-2])],[intercept + slope.astype(np.float32)*np.log(size[0]), intercept + slope.astype(np.float32)*np.log(size[-2])])\n",
    "#plt.text(-1,10,s = f\"slope = {np.round(slope,3)}, intercept = {np.round(intercept,3)}, rval = {np.round(rvalue,3)}\")\n",
    "plt.savefig(\"plot.png\")"
   ]
  },
  {
   "cell_type": "markdown",
   "metadata": {},
   "source": [
    "# Solving for one block "
   ]
  },
  {
   "cell_type": "code",
   "execution_count": 155,
   "metadata": {},
   "outputs": [],
   "source": [
    "u = 0.01\n",
    "k1 = 1\n",
    "k2 = 0.04\n",
    "eps = 0.01  \n",
    "alpha = 0.1\n",
    "F0 = 1\n",
    "m = 1\n",
    "h = 0.0001\n",
    "eps2 = 0.007    \n",
    "\n",
    "\n",
    "@njit\n",
    "def acc2(x,v,t):\n",
    "    return (-x*(2*k1 + k2) + k2*u*t - f2(x,v,t) )/m\n",
    "\n",
    "\n",
    "@njit\n",
    "def f2(x,v,t):\n",
    "     return np.where(v==0,\n",
    "     np.where(np.abs(-x*(2*k1 + k2)+ k2*u*t) < F0, -x*(2*k1 + k2) + k2*u*t ,F0*(1-eps) ),\n",
    "     F0*(1-eps)/(1+alpha*np.abs(v)))\n",
    "\n",
    "\n",
    "@njit\n",
    "def tenstion2(x,v,t):\n",
    "    return (-x*(2*k1 + k2) + k2*u*t )/m\n",
    "\n",
    "@njit\n",
    "def step2(x,v,t):\n",
    "    k1 = v\n",
    "    l1 = acc2(x,v,t)\n",
    "\n",
    "    k2 = v + l1*h/2\n",
    "    l2 = acc2(x+k1*h/2,v + l1*h/2,t + h/2)\n",
    "\n",
    "    k3 = v + l2*h/2\n",
    "    l3 = acc2(x+k2*h/2,v + l2*h/2,t + h/2)\n",
    "\n",
    "    k4 = v + l3/2\n",
    "    l4 = acc2(x+k3*h,v + l3*h, t + h)\n",
    "\n",
    "    xNew = x +  (k1 + 2*k2 + 2*k3 + k4)*h/6\n",
    "    vNew = v +  (l1 + 2*l2 + 2*l3 + l4)*h/6\n",
    "\n",
    "    vNew = 0 if vNew < 0 else vNew \n",
    "    \n",
    "    return xNew, vNew,t+h"
   ]
  },
  {
   "cell_type": "code",
   "execution_count": 179,
   "metadata": {},
   "outputs": [],
   "source": [
    "x = 0\n",
    "v = 0\n",
    "t0 = 2450\n",
    "t = t0 \n",
    "steps = 1_000_000\n",
    "xData = np.zeros(steps)\n",
    "vData = np.zeros(steps)\n",
    "ts = h*np.arange(steps)"
   ]
  },
  {
   "cell_type": "code",
   "execution_count": 180,
   "metadata": {},
   "outputs": [],
   "source": [
    "for i in range(steps):\n",
    "    xData[i] = x\n",
    "    vData[i] = v\n",
    "    x,v,t = step2(x,v,t)\n",
    "\n",
    "\n",
    "tensionData= tenstion2(xData,vData,t0 + ts)\n",
    "fData= f2(xData,vData,t0 + ts)"
   ]
  },
  {
   "cell_type": "code",
   "execution_count": 181,
   "metadata": {},
   "outputs": [
    {
     "data": {
      "text/plain": [
       "[<matplotlib.lines.Line2D at 0x7f99fe6a5510>]"
      ]
     },
     "execution_count": 181,
     "metadata": {},
     "output_type": "execute_result"
    },
    {
     "data": {
      "image/png": "[encoded data removed]",
      "text/plain": [
       "<Figure size 640x480 with 1 Axes>"
      ]
     },
     "metadata": {},
     "output_type": "display_data"
    }
   ],
   "source": [
    "plt.plot(ts,xData)"
   ]
  },
  {
   "cell_type": "code",
   "execution_count": 182,
   "metadata": {},
   "outputs": [
    {
     "data": {
      "text/plain": [
       "[<matplotlib.lines.Line2D at 0x7f99fe515610>]"
      ]
     },
     "execution_count": 182,
     "metadata": {},
     "output_type": "execute_result"
    },
    {
     "data": {
      "image/png": "[encoded data removed]",
      "text/plain": [
       "<Figure size 640x480 with 1 Axes>"
      ]
     },
     "metadata": {},
     "output_type": "display_data"
    }
   ],
   "source": [
    "plt.plot(ts,vData)"
   ]
  },
  {
   "cell_type": "code",
   "execution_count": 184,
   "metadata": {},
   "outputs": [
    {
     "data": {
      "text/plain": [
       "[<matplotlib.lines.Line2D at 0x7f99fea73bd0>]"
      ]
     },
     "execution_count": 184,
     "metadata": {},
     "output_type": "execute_result"
    },
    {
     "data": {
      "image/png": "[encoded data removed]",
      "text/plain": [
       "<Figure size 640x480 with 1 Axes>"
      ]
     },
     "metadata": {},
     "output_type": "display_data"
    }
   ],
   "source": [
    "plt.plot(ts,tensionData)"
   ]
  }
 ],
 "metadata": {
  "kernelspec": {
   "display_name": "base",
   "language": "python",
   "name": "python3"
  },
  "language_info": {
   "codemirror_mode": {
    "name": "ipython",
    "version": 3
   },
   "file_extension": ".py",
   "mimetype": "text/x-python",
   "name": "python",
   "nbconvert_exporter": "python",
   "pygments_lexer": "ipython3",
   "version": "3.11.3"
  }
 },
 "nbformat": 4,
 "nbformat_minor": 2
}
