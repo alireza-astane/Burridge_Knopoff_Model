{
 "cells": [
  {
   "cell_type": "code",
   "execution_count": 1,
   "metadata": {
    "collapsed": true,
    "executionInfo": {
     "elapsed": 28,
     "status": "ok",
     "timestamp": 1714136216152,
     "user": {
      "displayName": "Alireza Astane",
      "userId": "18427721940990885768"
     },
     "user_tz": -210
    },
    "id": "hp5pGnJvGi-d"
   },
   "outputs": [],
   "source": [
    "import matplotlib.pyplot as plt\n",
    "import numpy as np\n",
    "import sys"
   ]
  },
  {
   "cell_type": "code",
   "execution_count": 2,
   "metadata": {
    "executionInfo": {
     "elapsed": 25,
     "status": "ok",
     "timestamp": 1714136216154,
     "user": {
      "displayName": "Alireza Astane",
      "userId": "18427721940990885768"
     },
     "user_tz": -210
    },
    "id": "b-sqNDf2HNNk"
   },
   "outputs": [],
   "source": [
    "#resetting system limits\n",
    "sys.setrecursionlimit(20000)"
   ]
  },
  {
   "cell_type": "code",
   "execution_count": 12,
   "metadata": {},
   "outputs": [],
   "source": [
    "threshold = 4\n",
    "stepAvalanches = None\n",
    "l  = 10\n",
    "avalanchesData = []\n",
    "lattice = np.random.randint(0,threshold,(l,l))\n",
    "walks = [1+1J,1-1J,-1+1J,-1-1J]"
   ]
  },
  {
   "cell_type": "code",
   "execution_count": 41,
   "metadata": {},
   "outputs": [],
   "source": [
    "def run(lattice):\n",
    "    avalanchesData = []\n",
    "    lattice = np.random.randint(0,threshold,(l,l))\n",
    "    while np.any(lattice < threshold-1):\n",
    "        lattice, stepAvalanches = step(lattice)\n",
    "        avalanchesData.append(stepAvalanches)\n",
    "    return avalanchesData"
   ]
  },
  {
   "cell_type": "code",
   "execution_count": 42,
   "metadata": {},
   "outputs": [],
   "source": [
    "def step(latttice):\n",
    "    stepAvalanches = 0\n",
    "    i,j = np.random.randint(0,l,2)\n",
    "    check(i,j)\n",
    "\n",
    "    return lattice, stepAvalanches"
   ]
  },
  {
   "cell_type": "code",
   "execution_count": null,
   "metadata": {},
   "outputs": [],
   "source": [
    "def check(lattice,stepAvalanches,i,j): stepAvalanches += 1           avalanchesData.append(stepAvalanches)\n",
    "    lattice[i,j] += 1\n",
    "\n",
    "    if lattice[i,j] >= threshold :\n",
    "        stepAvalanches += 1 \n",
    "\n",
    "  \n",
    "\n",
    "\n",
    "    else:\n",
    "        walk = np.random.choice(walks,1)\n",
    "        i += int(np.real(walk))\n",
    "        j += int(np.imag(walk))\n",
    "\n",
    "        if 0<i<l and 0<j<l :\n",
    "            check(i,j)"
   ]
  },
  {
   "cell_type": "code",
   "execution_count": 65,
   "metadata": {
    "executionInfo": {
     "elapsed": 24,
     "status": "ok",
     "timestamp": 1714136216155,
     "user": {
      "displayName": "Alireza Astane",
      "userId": "18427721940990885768"
     },
     "user_tz": -210
    },
    "id": "Re3y_3KPGi-g"
   },
   "outputs": [],
   "source": [
    "class SandPile:\n",
    "    def __init__(self,l,threshold):\n",
    "        self.threshold = threshold\n",
    "        self.stepAvalanches = None\n",
    "        self.l  = l\n",
    "        self.avalanchesData = []\n",
    "        self.lattice = np.random.randint(0,threshold,(l,l))\n",
    "        self.walks = [1+1J,1-1J,-1+1J,-1-1J]\n",
    "\n",
    "    def run(self,steps):\n",
    "        #while np.sum(self.lattice) < 3*self.l**2:\\\n",
    "        for _ in range(steps):\n",
    "            self.step()\n",
    "\n",
    "    def step(self):\n",
    "        self.stepAvalanches = 0\n",
    "        i,j = np.random.randint(0,self.l,2)\n",
    "        self.check(i,j)\n",
    "\n",
    "        self.avalanchesData.append(self.stepAvalanches)   ###\n",
    "\n",
    "    # def check(self,i,j):\n",
    "    #     self.stepAvalanches += 1\n",
    "\n",
    "    #     if self.lattice[i,j] < self.threshold-1 :\n",
    "    #         self.lattice[i,j] += 1\n",
    "    #         self.avalanchesData.append(self.stepAvalanches)\n",
    "\n",
    "    #     else:\n",
    "    #         walk = np.random.choice(self.walks,1)\n",
    "    #         i += int(np.real(walk))\n",
    "    #         j += int(np.imag(walk))\n",
    "\n",
    "    #         if 0<i<self.l and 0<j<self.l :\n",
    "    #             self.check(i,j)\n",
    "\n",
    "\n",
    "\n",
    "    def check(self,i,j):\n",
    "        self.lattice[i,j] += 1\n",
    "        \n",
    "        while ( self.lattice[i,j] >= self.threshold):\n",
    "            self.stepAvalanches += 1\n",
    "            self.lattice[i,j] -= self.threshold\n",
    "\n",
    "            for _ in range(self.threshold):\n",
    "                walk = np.random.choice(self.walks,1)\n",
    "\n",
    "                i2 =i + int(np.real(walk))\n",
    "                j2 =j + int(np.imag(walk))\n",
    "\n",
    "\n",
    "                if 0<i2<self.l and 0<j2<self.l :\n",
    "                    self.check(i2,j2)\n"
   ]
  },
  {
   "cell_type": "code",
   "execution_count": 67,
   "metadata": {
    "executionInfo": {
     "elapsed": 985,
     "status": "ok",
     "timestamp": 1714136219669,
     "user": {
      "displayName": "Alireza Astane",
      "userId": "18427721940990885768"
     },
     "user_tz": -210
    },
    "id": "0BlBX3Oneq01"
   },
   "outputs": [],
   "source": [
    "sampleSize = 1"
   ]
  },
  {
   "cell_type": "code",
   "execution_count": 68,
   "metadata": {
    "colab": {
     "base_uri": "https://localhost:8080/"
    },
    "id": "x9WSflZKOe0S",
    "outputId": "3310f76f-60dd-4c30-b979-4b8a36ed7cbe",
    "pycharm": {
     "is_executing": true
    }
   },
   "outputs": [
    {
     "name": "stdout",
     "output_type": "stream",
     "text": [
      "0\n"
     ]
    }
   ],
   "source": [
    "# sampling for 10000 iterations\n",
    "data = []\n",
    "for i in range(sampleSize):\n",
    "  sandPile = SandPile(10,4)\n",
    "  sandPile.run(1000000)\n",
    "  data += sandPile.avalanchesData\n",
    "  print(i)"
   ]
  },
  {
   "cell_type": "code",
   "execution_count": 69,
   "metadata": {
    "id": "BujRpB6UGi-i",
    "pycharm": {
     "is_executing": true
    }
   },
   "outputs": [],
   "source": [
    "def hist(data):\n",
    "  # find the count of each value in data\n",
    "    sortedValues = list(set(data))\n",
    "    sortedValues.sort()\n",
    "    counts = np.zeros(len(sortedValues))\n",
    "    for i in range(len(sortedValues)):\n",
    "        counts[i] = data.count(sortedValues[i])\n",
    "\n",
    "    return counts/sampleSize,sortedValues"
   ]
  },
  {
   "cell_type": "code",
   "execution_count": 70,
   "metadata": {
    "id": "4pz_i3jcKOdo",
    "pycharm": {
     "is_executing": true
    }
   },
   "outputs": [],
   "source": [
    "counts,values = hist(data)"
   ]
  },
  {
   "cell_type": "code",
   "execution_count": 71,
   "metadata": {
    "id": "6-JoFEV7eq03",
    "pycharm": {
     "is_executing": true
    }
   },
   "outputs": [
    {
     "name": "stdout",
     "output_type": "stream",
     "text": [
      "\n",
      "Intel MKL ERROR: Parameter 4 was incorrect on entry to DGELSD.\n"
     ]
    },
    {
     "name": "stderr",
     "output_type": "stream",
     "text": [
      "/tmp/ipykernel_17503/800268310.py:1: RuntimeWarning: divide by zero encountered in log\n",
      "  a ,b = np.polyfit(np.log(values),np.log(counts),1)\n"
     ]
    },
    {
     "ename": "LinAlgError",
     "evalue": "SVD did not converge in Linear Least Squares",
     "output_type": "error",
     "traceback": [
      "\u001b[0;31m---------------------------------------------------------------------------\u001b[0m",
      "\u001b[0;31mLinAlgError\u001b[0m                               Traceback (most recent call last)",
      "Cell \u001b[0;32mIn[71], line 1\u001b[0m\n\u001b[0;32m----> 1\u001b[0m a ,b \u001b[38;5;241m=\u001b[39m \u001b[43mnp\u001b[49m\u001b[38;5;241;43m.\u001b[39;49m\u001b[43mpolyfit\u001b[49m\u001b[43m(\u001b[49m\u001b[43mnp\u001b[49m\u001b[38;5;241;43m.\u001b[39;49m\u001b[43mlog\u001b[49m\u001b[43m(\u001b[49m\u001b[43mvalues\u001b[49m\u001b[43m)\u001b[49m\u001b[43m,\u001b[49m\u001b[43mnp\u001b[49m\u001b[38;5;241;43m.\u001b[39;49m\u001b[43mlog\u001b[49m\u001b[43m(\u001b[49m\u001b[43mcounts\u001b[49m\u001b[43m)\u001b[49m\u001b[43m,\u001b[49m\u001b[38;5;241;43m1\u001b[39;49m\u001b[43m)\u001b[49m\n",
      "File \u001b[0;32m<__array_function__ internals>:200\u001b[0m, in \u001b[0;36mpolyfit\u001b[0;34m(*args, **kwargs)\u001b[0m\n",
      "File \u001b[0;32m~/anaconda3/lib/python3.11/site-packages/numpy/lib/polynomial.py:668\u001b[0m, in \u001b[0;36mpolyfit\u001b[0;34m(x, y, deg, rcond, full, w, cov)\u001b[0m\n\u001b[1;32m    666\u001b[0m scale \u001b[38;5;241m=\u001b[39m NX\u001b[38;5;241m.\u001b[39msqrt((lhs\u001b[38;5;241m*\u001b[39mlhs)\u001b[38;5;241m.\u001b[39msum(axis\u001b[38;5;241m=\u001b[39m\u001b[38;5;241m0\u001b[39m))\n\u001b[1;32m    667\u001b[0m lhs \u001b[38;5;241m/\u001b[39m\u001b[38;5;241m=\u001b[39m scale\n\u001b[0;32m--> 668\u001b[0m c, resids, rank, s \u001b[38;5;241m=\u001b[39m \u001b[43mlstsq\u001b[49m\u001b[43m(\u001b[49m\u001b[43mlhs\u001b[49m\u001b[43m,\u001b[49m\u001b[43m \u001b[49m\u001b[43mrhs\u001b[49m\u001b[43m,\u001b[49m\u001b[43m \u001b[49m\u001b[43mrcond\u001b[49m\u001b[43m)\u001b[49m\n\u001b[1;32m    669\u001b[0m c \u001b[38;5;241m=\u001b[39m (c\u001b[38;5;241m.\u001b[39mT\u001b[38;5;241m/\u001b[39mscale)\u001b[38;5;241m.\u001b[39mT  \u001b[38;5;66;03m# broadcast scale coefficients\u001b[39;00m\n\u001b[1;32m    671\u001b[0m \u001b[38;5;66;03m# warn on rank reduction, which indicates an ill conditioned matrix\u001b[39;00m\n",
      "File \u001b[0;32m<__array_function__ internals>:200\u001b[0m, in \u001b[0;36mlstsq\u001b[0;34m(*args, **kwargs)\u001b[0m\n",
      "File \u001b[0;32m~/anaconda3/lib/python3.11/site-packages/numpy/linalg/linalg.py:2285\u001b[0m, in \u001b[0;36mlstsq\u001b[0;34m(a, b, rcond)\u001b[0m\n\u001b[1;32m   2282\u001b[0m \u001b[38;5;28;01mif\u001b[39;00m n_rhs \u001b[38;5;241m==\u001b[39m \u001b[38;5;241m0\u001b[39m:\n\u001b[1;32m   2283\u001b[0m     \u001b[38;5;66;03m# lapack can't handle n_rhs = 0 - so allocate the array one larger in that axis\u001b[39;00m\n\u001b[1;32m   2284\u001b[0m     b \u001b[38;5;241m=\u001b[39m zeros(b\u001b[38;5;241m.\u001b[39mshape[:\u001b[38;5;241m-\u001b[39m\u001b[38;5;241m2\u001b[39m] \u001b[38;5;241m+\u001b[39m (m, n_rhs \u001b[38;5;241m+\u001b[39m \u001b[38;5;241m1\u001b[39m), dtype\u001b[38;5;241m=\u001b[39mb\u001b[38;5;241m.\u001b[39mdtype)\n\u001b[0;32m-> 2285\u001b[0m x, resids, rank, s \u001b[38;5;241m=\u001b[39m \u001b[43mgufunc\u001b[49m\u001b[43m(\u001b[49m\u001b[43ma\u001b[49m\u001b[43m,\u001b[49m\u001b[43m \u001b[49m\u001b[43mb\u001b[49m\u001b[43m,\u001b[49m\u001b[43m \u001b[49m\u001b[43mrcond\u001b[49m\u001b[43m,\u001b[49m\u001b[43m \u001b[49m\u001b[43msignature\u001b[49m\u001b[38;5;241;43m=\u001b[39;49m\u001b[43msignature\u001b[49m\u001b[43m,\u001b[49m\u001b[43m \u001b[49m\u001b[43mextobj\u001b[49m\u001b[38;5;241;43m=\u001b[39;49m\u001b[43mextobj\u001b[49m\u001b[43m)\u001b[49m\n\u001b[1;32m   2286\u001b[0m \u001b[38;5;28;01mif\u001b[39;00m m \u001b[38;5;241m==\u001b[39m \u001b[38;5;241m0\u001b[39m:\n\u001b[1;32m   2287\u001b[0m     x[\u001b[38;5;241m.\u001b[39m\u001b[38;5;241m.\u001b[39m\u001b[38;5;241m.\u001b[39m] \u001b[38;5;241m=\u001b[39m \u001b[38;5;241m0\u001b[39m\n",
      "File \u001b[0;32m~/anaconda3/lib/python3.11/site-packages/numpy/linalg/linalg.py:101\u001b[0m, in \u001b[0;36m_raise_linalgerror_lstsq\u001b[0;34m(err, flag)\u001b[0m\n\u001b[1;32m    100\u001b[0m \u001b[38;5;28;01mdef\u001b[39;00m \u001b[38;5;21m_raise_linalgerror_lstsq\u001b[39m(err, flag):\n\u001b[0;32m--> 101\u001b[0m     \u001b[38;5;28;01mraise\u001b[39;00m LinAlgError(\u001b[38;5;124m\"\u001b[39m\u001b[38;5;124mSVD did not converge in Linear Least Squares\u001b[39m\u001b[38;5;124m\"\u001b[39m)\n",
      "\u001b[0;31mLinAlgError\u001b[0m: SVD did not converge in Linear Least Squares"
     ]
    }
   ],
   "source": [
    "a ,b = np.polyfit(np.log(values),np.log(counts),1)"
   ]
  },
  {
   "cell_type": "code",
   "execution_count": 74,
   "metadata": {},
   "outputs": [
    {
     "data": {
      "text/plain": [
       "91"
      ]
     },
     "execution_count": 74,
     "metadata": {},
     "output_type": "execute_result"
    }
   ],
   "source": []
  },
  {
   "cell_type": "code",
   "execution_count": 73,
   "metadata": {
    "id": "yp9A3OllTVgG",
    "pycharm": {
     "is_executing": true
    }
   },
   "outputs": [
    {
     "name": "stderr",
     "output_type": "stream",
     "text": [
      "/tmp/ipykernel_17503/694703090.py:5: RuntimeWarning: divide by zero encountered in log\n",
      "  plt.plot(np.log(values),np.log(counts))\n"
     ]
    },
    {
     "data": {
      "image/png": "[encoded data removed]",
      "text/plain": [
       "<Figure size 1000x1000 with 1 Axes>"
      ]
     },
     "metadata": {},
     "output_type": "display_data"
    }
   ],
   "source": [
    "plt.figure(figsize=(10,10))\n",
    "plt.title(\"log-log plot of dist. of avalanches in Sandpile model\")\n",
    "plt.xlabel(\"log(count of avalanches)\")\n",
    "plt.ylabel(\"log(size of avalanches)\")\n",
    "plt.plot(np.log(values),np.log(counts))\n",
    "#plt.plot([0,4],[b,a*4 + b])\n",
    "plt.legend([\"plot of dist.\",\"fitted line\"])\n",
    "plt.show()"
   ]
  },
  {
   "cell_type": "code",
   "execution_count": 38,
   "metadata": {
    "id": "nO-CSuxETbYo",
    "pycharm": {
     "is_executing": true
    }
   },
   "outputs": [
    {
     "name": "stdout",
     "output_type": "stream",
     "text": [
      "r2 for log(values) and log(counts) is :  -0.9675063706129612\n"
     ]
    }
   ],
   "source": [
    "print(\"r2 for log(values) and log(counts) is : \",np.corrcoef(np.log(values),np.log(counts))[0][1])"
   ]
  },
  {
   "cell_type": "code",
   "execution_count": 39,
   "metadata": {
    "id": "7fonFGNCTcAN",
    "pycharm": {
     "is_executing": true
    }
   },
   "outputs": [
    {
     "name": "stdout",
     "output_type": "stream",
     "text": [
      "slope for line fit on log(values) ans log(counts) is :  -2.9799381198401598\n"
     ]
    }
   ],
   "source": [
    "print(\"slope for line fit on log(values) ans log(counts) is : \",a)"
   ]
  },
  {
   "cell_type": "code",
   "execution_count": null,
   "metadata": {},
   "outputs": [],
   "source": []
  },
  {
   "cell_type": "code",
   "execution_count": null,
   "metadata": {},
   "outputs": [],
   "source": []
  }
 ],
 "metadata": {
  "colab": {
   "provenance": [],
   "toc_visible": true
  },
  "kernelspec": {
   "display_name": "base",
   "language": "python",
   "name": "python3"
  },
  "language_info": {
   "codemirror_mode": {
    "name": "ipython",
    "version": 3
   },
   "file_extension": ".py",
   "mimetype": "text/x-python",
   "name": "python",
   "nbconvert_exporter": "python",
   "pygments_lexer": "ipython3",
   "version": "3.11.3"
  }
 },
 "nbformat": 4,
 "nbformat_minor": 0
}
