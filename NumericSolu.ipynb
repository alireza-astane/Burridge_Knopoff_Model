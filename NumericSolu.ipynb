{
 "cells": [
  {
   "cell_type": "code",
   "execution_count": 5,
   "metadata": {},
   "outputs": [],
   "source": [
    "import numpy as np\n",
    "import matplotlib.pyplot as plt\n",
    "from numba import njit\n",
    "import scipy \n",
    "import datetime"
   ]
  },
  {
   "cell_type": "code",
   "execution_count": 126,
   "metadata": {},
   "outputs": [],
   "source": [
    "L = 50\n",
    "u = 0.001\n",
    "k1 = 1\n",
    "k2 = 0.04\n",
    "eps = 0.5\n",
    "alpha = 0.001\n",
    "F0 = 1\n",
    "m = 1\n",
    "h = 0.1\n",
    "eps2 = 0.33"
   ]
  },
  {
   "cell_type": "code",
   "execution_count": 127,
   "metadata": {},
   "outputs": [],
   "source": []
  },
  {
   "cell_type": "code",
   "execution_count": null,
   "metadata": {},
   "outputs": [],
   "source": []
  },
  {
   "cell_type": "code",
   "execution_count": 128,
   "metadata": {},
   "outputs": [],
   "source": [
    "@njit\n",
    "def acc(x,v,t):\n",
    "    xIntoLeft = np.roll(x,-1)\n",
    "    xIntoRight = np.roll(x,1)\n",
    "    xIntoLeft[-1] = 0\n",
    "    xIntoRight[0] = 0\n",
    "\n",
    "    return (-x*(2*k1 + k2) + (xIntoRight + xIntoLeft)*k1 + k2*u*t - f(x,v,t) )/m"
   ]
  },
  {
   "cell_type": "code",
   "execution_count": 129,
   "metadata": {},
   "outputs": [],
   "source": [
    "@njit\n",
    "def acc2(x,v,t):\n",
    "    return (-x*(2*k1 + k2) + k2*u*t - f2(x,v,t) )/m"
   ]
  },
  {
   "cell_type": "code",
   "execution_count": 130,
   "metadata": {},
   "outputs": [],
   "source": [
    "@njit\n",
    "def f(x,v,t):\n",
    "     xIntoLeft = np.roll(x,-1)\n",
    "     xIntoRight = np.roll(x,1)\n",
    "     xIntoLeft[-1] = 0\n",
    "     xIntoRight[0] = 0\n",
    "     return np.where(v==0,\n",
    "     np.where(np.abs(-x*(2*k1 + k2) + (xIntoRight + xIntoLeft)*k1 + k2*u*t) < F0, -x*(2*k1 + k2) + (xIntoRight + xIntoLeft)*k1 + k2*u*t ,F0*(1-eps) ),\n",
    "     F0*(1-eps)/(1+alpha*np.abs(v)))\n",
    "     ### TODO check for v<0"
   ]
  },
  {
   "cell_type": "code",
   "execution_count": 131,
   "metadata": {},
   "outputs": [],
   "source": [
    "@njit\n",
    "def f2(x,v,t):\n",
    "     return np.where(v==0,\n",
    "     np.where(np.abs(-x*(2*k1 + k2)+ k2*u*t) < F0, -x*(2*k1 + k2) + k2*u*t ,F0*(1-eps) ),\n",
    "     F0*(1-eps)/(1+alpha*np.abs(v)))\n",
    "     ### TODO check for v<0"
   ]
  },
  {
   "cell_type": "code",
   "execution_count": 132,
   "metadata": {},
   "outputs": [],
   "source": [
    "def tenstion(x,v,t):\n",
    "    return m*acc(x,v,t) + f(x,v,t)"
   ]
  },
  {
   "cell_type": "code",
   "execution_count": 133,
   "metadata": {},
   "outputs": [],
   "source": [
    "def tenstion2(x,v,t):\n",
    "    return (-x*(2*k1 + k2) + k2*u*t )/m"
   ]
  },
  {
   "cell_type": "code",
   "execution_count": 134,
   "metadata": {},
   "outputs": [],
   "source": [
    "@njit\n",
    "def step2(x,v,t):\n",
    "    k1 = v\n",
    "    l1 = acc2(x,v,t)\n",
    "\n",
    "    k2 = v + l1*h/2\n",
    "    l2 = acc2(x+k1*h/2,v + l1*h/2,t + h/2)\n",
    "\n",
    "    k3 = v + l2*h/2\n",
    "    l3 = acc2(x+k2*h/2,v + l2*h/2,t + h/2)\n",
    "\n",
    "    k4 = v + l3/2\n",
    "    l4 = acc2(x+k3*h,v + l3*h, t + h)\n",
    "\n",
    "    xNew = x +  (k1 + 2*k2 + 2*k3 + k4)*h/6\n",
    "    vNew = v +  (l1 + 2*l2 + 2*l3 + l4)*h/6\n",
    "\n",
    "    vNew = 0 if vNew < 0 else vNew \n",
    "    \n",
    "    return xNew, vNew,t+h"
   ]
  },
  {
   "cell_type": "code",
   "execution_count": 135,
   "metadata": {},
   "outputs": [],
   "source": [
    "@njit\n",
    "def step(x,v,t):\n",
    "    k1 = v\n",
    "    l1 = acc(x,v,t)\n",
    "\n",
    "    k2 = v + l1*h/2\n",
    "    l2 = acc(x+k1*h/2,v + l1*h/2,t + h/2)\n",
    "\n",
    "    k3 = v + l2*h/2\n",
    "    l3 = acc(x+k2*h/2,v + l2*h/2,t + h/2)\n",
    "\n",
    "    k4 = v + l3/2\n",
    "    l4 = acc(x+k3*h,v + l3*h, t + h)\n",
    "\n",
    "    xNew = x +  (k1 + 2*k2 + 2*k3 + k4)*h/6\n",
    "    vNew = v +  (l1 + 2*l2 + 2*l3 + l4)*h/6\n",
    "\n",
    "    vNew = np.where(vNew<0, 0, vNew)\n",
    "    \n",
    "    return xNew, vNew,t+h"
   ]
  },
  {
   "cell_type": "code",
   "execution_count": 193,
   "metadata": {},
   "outputs": [],
   "source": [
    "def run(x,v,t,steps=1_000_000):\n",
    "    xdata = np.zeros((steps,L),dtype=np.float32)\n",
    "    vdata = np.zeros((steps,L),dtype=np.float32)\n",
    "    tenstionData = np.zeros((steps,L),dtype=np.float32)\n",
    "    for i in range(steps):\n",
    "        x,v,t = step(x,v,t)\n",
    "        xdata[i] = x\n",
    "        vdata[i] = v\n",
    "        tenstionData[i] = tenstion(x,v,t)\n",
    "\n",
    "    slipping = np.any(vdata>0,axis=1)\n",
    "\n",
    "    slippingR = np.roll(slipping,+1)\n",
    "    slippingL = np.roll(slipping,-1)\n",
    "\n",
    "    slippingR[0] = False\n",
    "    slippingL[-1] = False \n",
    "\n",
    "    ends  = np.logical_xor( slipping ,(slipping *slippingL))\n",
    "    starts  = np.logical_xor( slipping ,(slipping *slippingR))\n",
    "\n",
    "    totalX = np.sum(xdata,axis = 1)\n",
    "\n",
    "    eventsSize = totalX[np.argwhere(ends)] - totalX[np.argwhere(starts)]\n",
    "    eventsBlocks = np.sum(xdata[ends]!=xdata[starts],axis=1).reshape(-1,1)\n",
    "\n",
    "\n",
    "    print(np.argwhere(ends)-np.argwhere(starts))\n",
    "\n",
    "    # time = str(datetime.datetime.now())\n",
    "    # np.save(\"xdata-\"+time,xdata)\n",
    "    # np.save(\"vdata-\"+time,vdata)\n",
    "\n",
    "    ls = np.sum(tenstionData[np.argwhere(starts)] >= (1-eps2),axis=2)\n",
    "\n",
    "    \n",
    "\n",
    "\n",
    "    return x,v,t,eventsSize,eventsBlocks,ls\n"
   ]
  },
  {
   "cell_type": "code",
   "execution_count": 194,
   "metadata": {},
   "outputs": [],
   "source": [
    "x = 0.1*np.random.uniform(-1,1,L).astype(dtype=np.float32) \n",
    "v = np.zeros(L,dtype=np.float32)\n",
    "t = 0"
   ]
  },
  {
   "cell_type": "code",
   "execution_count": 195,
   "metadata": {},
   "outputs": [],
   "source": [
    "dataDic = {}\n",
    "for i in range(L):\n",
    "    dataDic[i] = []\n"
   ]
  },
  {
   "cell_type": "code",
   "execution_count": 196,
   "metadata": {},
   "outputs": [],
   "source": [
    "x,v,t,eventsSize,eventsBlocks,ls= run(x,v,t,1_000_000)"
   ]
  },
  {
   "cell_type": "code",
   "execution_count": 176,
   "metadata": {},
   "outputs": [
    {
     "name": "stdout",
     "output_type": "stream",
     "text": [
      "0\n",
      "1\n",
      "2\n",
      "3\n",
      "4\n",
      "5\n",
      "6\n",
      "7\n",
      "8\n",
      "9\n"
     ]
    }
   ],
   "source": [
    "for j in range(100):\n",
    "    x,v,t,eventsSize,eventsBlocks,ls= run(x,v,t,10_000_000)\n",
    "\n",
    "\n",
    "\n",
    "    time = str(datetime.datetime.now())\n",
    "    \n",
    "    np.save(\"eventsSize-\"+time,eventsSize)\n",
    "    np.save(\"eventsBlocks-\"+time,eventsBlocks)\n",
    "    np.save(\"ls-\"+time,ls)\n",
    "\n",
    "    for i in range(eventsSize.shape[0]):\n",
    "        dataDic[int(ls[i])].append(float(eventsSize[i]))\n",
    "\n",
    "    print(j)"
   ]
  },
  {
   "cell_type": "code",
   "execution_count": 184,
   "metadata": {},
   "outputs": [
    {
     "name": "stdout",
     "output_type": "stream",
     "text": [
      "237\n"
     ]
    }
   ],
   "source": [
    "num = 0\n",
    "for i in list(dataDic.values()):\n",
    "    num += len(i)\n",
    "\n",
    "print(num)"
   ]
  },
  {
   "cell_type": "code",
   "execution_count": 124,
   "metadata": {},
   "outputs": [
    {
     "name": "stdout",
     "output_type": "stream",
     "text": [
      "0.32 318.3834166535688\n",
      "0.321 311.3647378878989\n",
      "0.322 261.9236529983499\n",
      "0.323 274.7544358149655\n",
      "0.324 288.5359596306845\n",
      "0.325 299.2072860075436\n",
      "0.326 279.4995527724508\n",
      "0.327 320.99532706879086\n",
      "0.328 280.53520278211073\n",
      "0.329 301.18266882408756\n",
      "0.33 259.5399776527693\n",
      "0.331 277.36618395182927\n",
      "0.332 279.62296043064845\n",
      "0.333 277.05956038368356\n",
      "0.334 276.31503759296197\n",
      "0.335 283.4572278140037\n",
      "0.336 295.1796063416306\n"
     ]
    },
    {
     "ename": "KeyboardInterrupt",
     "evalue": "",
     "output_type": "error",
     "traceback": [
      "\u001b[0;31m---------------------------------------------------------------------------\u001b[0m",
      "\u001b[0;31mKeyboardInterrupt\u001b[0m                         Traceback (most recent call last)",
      "Cell \u001b[0;32mIn[124], line 6\u001b[0m\n\u001b[1;32m      3\u001b[0m v \u001b[38;5;241m=\u001b[39m np\u001b[38;5;241m.\u001b[39mzeros(L,dtype\u001b[38;5;241m=\u001b[39mnp\u001b[38;5;241m.\u001b[39mfloat32)\n\u001b[1;32m      4\u001b[0m t \u001b[38;5;241m=\u001b[39m \u001b[38;5;241m0\u001b[39m\n\u001b[0;32m----> 6\u001b[0m x,v,t,eventsSize,eventsBlocks,ls\u001b[38;5;241m=\u001b[39m \u001b[43mrun\u001b[49m\u001b[43m(\u001b[49m\u001b[43mx\u001b[49m\u001b[43m,\u001b[49m\u001b[43mv\u001b[49m\u001b[43m,\u001b[49m\u001b[43mt\u001b[49m\u001b[43m,\u001b[49m\u001b[38;5;241;43m10_000_000\u001b[39;49m\u001b[43m)\u001b[49m\n\u001b[1;32m      8\u001b[0m par \u001b[38;5;241m=\u001b[39m np\u001b[38;5;241m.\u001b[39mlinalg\u001b[38;5;241m.\u001b[39mnorm(ls[:,\u001b[38;5;241m0\u001b[39m]\u001b[38;5;241m-\u001b[39m eventsBlocks[:,\u001b[38;5;241m0\u001b[39m])\n\u001b[1;32m      9\u001b[0m \u001b[38;5;28mprint\u001b[39m(eps2, par)\n",
      "Cell \u001b[0;32mIn[102], line 9\u001b[0m, in \u001b[0;36mrun\u001b[0;34m(x, v, t, steps)\u001b[0m\n\u001b[1;32m      7\u001b[0m     xdata[i] \u001b[38;5;241m=\u001b[39m x\n\u001b[1;32m      8\u001b[0m     vdata[i] \u001b[38;5;241m=\u001b[39m v\n\u001b[0;32m----> 9\u001b[0m     tenstionData[i] \u001b[38;5;241m=\u001b[39m \u001b[43mtenstion\u001b[49m\u001b[43m(\u001b[49m\u001b[43mx\u001b[49m\u001b[43m,\u001b[49m\u001b[43mv\u001b[49m\u001b[43m,\u001b[49m\u001b[43mt\u001b[49m\u001b[43m)\u001b[49m\n\u001b[1;32m     11\u001b[0m slipping \u001b[38;5;241m=\u001b[39m np\u001b[38;5;241m.\u001b[39many(vdata\u001b[38;5;241m>\u001b[39m\u001b[38;5;241m0\u001b[39m,axis\u001b[38;5;241m=\u001b[39m\u001b[38;5;241m1\u001b[39m)\n\u001b[1;32m     13\u001b[0m slippingR \u001b[38;5;241m=\u001b[39m np\u001b[38;5;241m.\u001b[39mroll(slipping,\u001b[38;5;241m+\u001b[39m\u001b[38;5;241m1\u001b[39m)\n",
      "Cell \u001b[0;32mIn[60], line 2\u001b[0m, in \u001b[0;36mtenstion\u001b[0;34m(x, v, t)\u001b[0m\n\u001b[1;32m      1\u001b[0m \u001b[38;5;28;01mdef\u001b[39;00m \u001b[38;5;21mtenstion\u001b[39m(x,v,t):\n\u001b[0;32m----> 2\u001b[0m     \u001b[38;5;28;01mreturn\u001b[39;00m m\u001b[38;5;241m*\u001b[39macc(x,v,t) \u001b[38;5;241m+\u001b[39m \u001b[43mf\u001b[49m\u001b[43m(\u001b[49m\u001b[43mx\u001b[49m\u001b[43m,\u001b[49m\u001b[43mv\u001b[49m\u001b[43m,\u001b[49m\u001b[43mt\u001b[49m\u001b[43m)\u001b[49m\n",
      "File \u001b[0;32m~/anaconda3/lib/python3.11/site-packages/numba/core/serialize.py:30\u001b[0m, in \u001b[0;36m_numba_unpickle\u001b[0;34m(address, bytedata, hashed)\u001b[0m\n\u001b[1;32m     26\u001b[0m \u001b[38;5;66;03m# Keep unpickled object via `numba_unpickle` alive.\u001b[39;00m\n\u001b[1;32m     27\u001b[0m _unpickled_memo \u001b[38;5;241m=\u001b[39m {}\n\u001b[0;32m---> 30\u001b[0m \u001b[38;5;28;01mdef\u001b[39;00m \u001b[38;5;21m_numba_unpickle\u001b[39m(address, bytedata, hashed):\n\u001b[1;32m     31\u001b[0m \u001b[38;5;250m    \u001b[39m\u001b[38;5;124;03m\"\"\"Used by `numba_unpickle` from _helperlib.c\u001b[39;00m\n\u001b[1;32m     32\u001b[0m \n\u001b[1;32m     33\u001b[0m \u001b[38;5;124;03m    Parameters\u001b[39;00m\n\u001b[0;32m   (...)\u001b[0m\n\u001b[1;32m     42\u001b[0m \u001b[38;5;124;03m        unpickled object\u001b[39;00m\n\u001b[1;32m     43\u001b[0m \u001b[38;5;124;03m    \"\"\"\u001b[39;00m\n\u001b[1;32m     44\u001b[0m     key \u001b[38;5;241m=\u001b[39m (address, hashed)\n",
      "\u001b[0;31mKeyboardInterrupt\u001b[0m: "
     ]
    }
   ],
   "source": [
    "# for eps2 in np.arange(0.32,0.34,0.001):\n",
    "#     x = 0.1*np.random.uniform(-1,1,L).astype(dtype=np.float32) \n",
    "#     v = np.zeros(L,dtype=np.float32)\n",
    "#     t = 0\n",
    "\n",
    "#     x,v,t,eventsSize,eventsBlocks,ls= run(x,v,t,10_000_000)\n",
    "\n",
    "#     par = np.linalg.norm(ls[:,0]- eventsBlocks[:,0])\n",
    "#     print(eps2, par)"
   ]
  },
  {
   "cell_type": "code",
   "execution_count": 142,
   "metadata": {},
   "outputs": [
    {
     "data": {
      "text/plain": [
       "<BarContainer object of 15 artists>"
      ]
     },
     "execution_count": 142,
     "metadata": {},
     "output_type": "execute_result"
    },
    {
     "data": {
      "image/png": "[encoded data removed]",
      "text/plain": [
       "<Figure size 640x480 with 1 Axes>"
      ]
     },
     "metadata": {},
     "output_type": "display_data"
    }
   ],
   "source": [
    "plt.bar(np.arange(eventsSize.shape[0]),ls[:,0])\n",
    "plt.bar(np.arange(eventsSize.shape[0]),eventsBlocks[:,0])"
   ]
  },
  {
   "cell_type": "code",
   "execution_count": 141,
   "metadata": {},
   "outputs": [
    {
     "data": {
      "text/plain": [
       "<BarContainer object of 15 artists>"
      ]
     },
     "execution_count": 141,
     "metadata": {},
     "output_type": "execute_result"
    },
    {
     "data": {
      "image/png": "[encoded data removed]",
      "text/plain": [
       "<Figure size 640x480 with 1 Axes>"
      ]
     },
     "metadata": {},
     "output_type": "display_data"
    }
   ],
   "source": [
    "plt.bar(np.arange(eventsSize.shape[0]),eventsBlocks[:,0])\n",
    "plt.bar(np.arange(eventsSize.shape[0]),ls[:,0])\n"
   ]
  },
  {
   "cell_type": "code",
   "execution_count": 15,
   "metadata": {},
   "outputs": [],
   "source": [
    "x = 0.1*np.random.uniform(-1,1,L).astype(dtype=np.float32) \n",
    "v = np.zeros(L,dtype=np.float32)\n",
    "t = 0"
   ]
  },
  {
   "cell_type": "code",
   "execution_count": 16,
   "metadata": {},
   "outputs": [
    {
     "name": "stderr",
     "output_type": "stream",
     "text": [
      "/tmp/ipykernel_6185/3979528276.py:4: NumbaExperimentalFeatureWarning: Use of isinstance() detected. This is an experimental feature.\n",
      "  l1 = acc(x,v,t)\n"
     ]
    }
   ],
   "source": [
    "x,v,t,eventsSize,eventsBlock = run(x,v,t,1_000_000)"
   ]
  },
  {
   "cell_type": "code",
   "execution_count": 24,
   "metadata": {},
   "outputs": [
    {
     "data": {
      "text/plain": [
       "array([ 0.92941733,  0.39425291,  0.4371245 ,  0.71820021,  0.70737958,\n",
       "        0.60290386,  0.62557907,  0.61770189,  0.61775298,  0.67026785,\n",
       "        0.64546022,  0.6365137 ,  0.62800613,  0.62532608,  0.6189285 ,\n",
       "        0.62843162,  0.64384358,  0.59178559,  0.7004657 ,  0.59966988,\n",
       "        0.60100563,  0.58277573,  0.56930126,  0.57896695,  0.59328478,\n",
       "        0.66335909,  0.62447646,  0.54804957,  0.59503295,  0.56122593,\n",
       "        0.57973318,  0.60369594,  0.6053518 ,  0.55898939,  0.53016622,\n",
       "        0.52690777,  0.58243967,  0.58768241,  0.58523719,  0.5481633 ,\n",
       "        0.43488768,  0.33948725,  0.40667135,  0.29418131,  0.22082487,\n",
       "        0.59470805,  0.46832282,  0.39387153,  0.29062339, -0.11250414])"
      ]
     },
     "execution_count": 24,
     "metadata": {},
     "output_type": "execute_result"
    }
   ],
   "source": [
    "tenstion(x,v,t)"
   ]
  },
  {
   "cell_type": "code",
   "execution_count": 13,
   "metadata": {},
   "outputs": [
    {
     "name": "stdout",
     "output_type": "stream",
     "text": [
      "0\n",
      "1\n"
     ]
    }
   ],
   "source": [
    "parts = 2000\n",
    "steps = 1_000_000\n",
    "eventsSizes = np.array([]).reshape((0,1))\n",
    "eventsBlocks = np.array([]).reshape((0,1))\n",
    "for p in range(parts):\n",
    "    x,v,t,eventsSize,eventsBlock = run(x,v,t,steps)\n",
    "    eventsSizes = np.concatenate((eventsSizes,eventsSize))\n",
    "    eventsBlocks = np.concatenate((eventsBlocks,eventsBlock))\n",
    "    print(p)\n",
    "\n",
    "np.save(\"eventsSizes\",eventsSizes)\n",
    "np.save(\"eventsBlocks\",eventsBlocks)\n",
    "\n",
    "    "
   ]
  },
  {
   "cell_type": "code",
   "execution_count": null,
   "metadata": {},
   "outputs": [],
   "source": [
    "dists = []\n",
    "for i in range(L):\n",
    "    dists.append(eventsSizes[eventsBlocks==i])"
   ]
  },
  {
   "cell_type": "code",
   "execution_count": null,
   "metadata": {},
   "outputs": [],
   "source": [
    "plt.hist(eventsSizes[eventsBlocks==1],bins=300)"
   ]
  },
  {
   "cell_type": "code",
   "execution_count": null,
   "metadata": {},
   "outputs": [],
   "source": [
    "plt.hist(eventsSizes)"
   ]
  },
  {
   "cell_type": "code",
   "execution_count": null,
   "metadata": {},
   "outputs": [],
   "source": [
    "freq,size = np.histogram(eventsSizes)"
   ]
  },
  {
   "cell_type": "code",
   "execution_count": null,
   "metadata": {},
   "outputs": [],
   "source": [
    "#slope , intercept, rvalue ,_,_= scipy.stats.linregress(np.log(size[:-1]),np.log(freq))\n",
    "\n",
    "plt.title(\"frequency vs size\")\n",
    "plt.xlabel(\"event size\")\n",
    "plt.ylabel(\"event frequency\")\n",
    "plt.scatter(np.log(size[:-1]),np.log(freq))\n",
    "#plt.plot([np.log(size[0]),np.log(size[-2])],[intercept + slope.astype(np.float32)*np.log(size[0]), intercept + slope.astype(np.float32)*np.log(size[-2])])\n",
    "#plt.text(-1,10,s = f\"slope = {np.round(slope,3)}, intercept = {np.round(intercept,3)}, rval = {np.round(rvalue,3)}\")\n",
    "plt.savefig(\"plot.png\")"
   ]
  },
  {
   "cell_type": "code",
   "execution_count": null,
   "metadata": {},
   "outputs": [],
   "source": [
    "x = 0\n",
    "v = 0\n",
    "t = 0\n",
    "steps = 100_000\n",
    "xData = np.zeros(steps)\n",
    "vData = np.zeros(steps)"
   ]
  },
  {
   "cell_type": "code",
   "execution_count": null,
   "metadata": {},
   "outputs": [],
   "source": [
    "for i in range(steps):\n",
    "    xData[i] = x\n",
    "    vData[i] = v\n",
    "    x,v,t = step2(x,v,t)\n"
   ]
  },
  {
   "cell_type": "code",
   "execution_count": null,
   "metadata": {},
   "outputs": [],
   "source": [
    "plt.plot(np.arange(steps),xData)"
   ]
  },
  {
   "cell_type": "code",
   "execution_count": null,
   "metadata": {},
   "outputs": [],
   "source": [
    "plt.plot(np.arange(steps),vData)"
   ]
  },
  {
   "cell_type": "code",
   "execution_count": null,
   "metadata": {},
   "outputs": [],
   "source": [
    "tensionData= np.zeros(steps)\n",
    "for i in range(steps):\n",
    "    tensionData[i] = tenstion(xData[i],vData[i],i*h)"
   ]
  },
  {
   "cell_type": "code",
   "execution_count": null,
   "metadata": {},
   "outputs": [],
   "source": [
    "fData= np.zeros(steps)\n",
    "for i in range(steps):\n",
    "    fData[i] = f2(xData[i],vData[i],i*h)"
   ]
  },
  {
   "cell_type": "code",
   "execution_count": null,
   "metadata": {},
   "outputs": [],
   "source": [
    "plt.plot(np.arange(9900,10100),xData[9900:10100])"
   ]
  },
  {
   "cell_type": "code",
   "execution_count": null,
   "metadata": {},
   "outputs": [],
   "source": [
    "plt.plot(np.arange(9900,10100),vData[9900:10100])"
   ]
  },
  {
   "cell_type": "code",
   "execution_count": null,
   "metadata": {},
   "outputs": [],
   "source": [
    "plt.plot(np.arange(9900,10100),fData[9900:10100])"
   ]
  },
  {
   "cell_type": "code",
   "execution_count": null,
   "metadata": {},
   "outputs": [],
   "source": [
    "plt.plot(np.arange(9900,10100),tensionData[9900:10100])"
   ]
  },
  {
   "cell_type": "code",
   "execution_count": null,
   "metadata": {},
   "outputs": [],
   "source": [
    "plt.plot(np.arange(steps),tensionData)"
   ]
  }
 ],
 "metadata": {
  "kernelspec": {
   "display_name": "base",
   "language": "python",
   "name": "python3"
  },
  "language_info": {
   "codemirror_mode": {
    "name": "ipython",
    "version": 3
   },
   "file_extension": ".py",
   "mimetype": "text/x-python",
   "name": "python",
   "nbconvert_exporter": "python",
   "pygments_lexer": "ipython3",
   "version": "3.11.3"
  }
 },
 "nbformat": 4,
 "nbformat_minor": 2
}
