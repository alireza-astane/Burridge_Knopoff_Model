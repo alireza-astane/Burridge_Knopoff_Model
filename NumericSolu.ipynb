{
 "cells": [
  {
   "cell_type": "code",
   "execution_count": 21,
   "metadata": {},
   "outputs": [],
   "source": [
    "import numpy as np\n",
    "import matplotlib.pyplot as plt\n",
    "from numba import njit\n",
    "import scipy \n",
    "import datetime"
   ]
  },
  {
   "cell_type": "code",
   "execution_count": 42,
   "metadata": {},
   "outputs": [],
   "source": [
    "L = 50\n",
    "u = 0.001\n",
    "k1 = 1\n",
    "k2 = 0.04\n",
    "eps = 0.5\n",
    "alpha = 0.001\n",
    "F0 = 1\n",
    "m = 1\n",
    "h = 0.1"
   ]
  },
  {
   "cell_type": "code",
   "execution_count": 44,
   "metadata": {},
   "outputs": [],
   "source": [
    "@njit\n",
    "def acc(x,v,t):\n",
    "    xIntoLeft = np.roll(x,-1)\n",
    "    xIntoRight = np.roll(x,1)\n",
    "    xIntoLeft[-1] = 0\n",
    "    xIntoRight[0] = 0\n",
    "\n",
    "    return (-x*(2*k1 + k2) + (xIntoRight + xIntoLeft)*k1 + k2*u*t - f(x,v,t) )/m"
   ]
  },
  {
   "cell_type": "code",
   "execution_count": 45,
   "metadata": {},
   "outputs": [],
   "source": [
    "@njit\n",
    "def acc2(x,v,t):\n",
    "    return (-x*(2*k1 + k2) + k2*u*t - f2(x,v,t) )/m"
   ]
  },
  {
   "cell_type": "code",
   "execution_count": 46,
   "metadata": {},
   "outputs": [],
   "source": [
    "@njit\n",
    "def f(x,v,t):\n",
    "     xIntoLeft = np.roll(x,-1)\n",
    "     xIntoRight = np.roll(x,1)\n",
    "     xIntoLeft[-1] = 0\n",
    "     xIntoRight[0] = 0\n",
    "     return np.where(v==0,\n",
    "     np.where(np.abs(-x*(2*k1 + k2) + (xIntoRight + xIntoLeft)*k1 + k2*u*t) < F0, -x*(2*k1 + k2) + (xIntoRight + xIntoLeft)*k1 + k2*u*t ,F0*(1-eps) ),\n",
    "     F0*(1-eps)/(1+alpha*np.abs(v)))\n",
    "     ### TODO check for v<0"
   ]
  },
  {
   "cell_type": "code",
   "execution_count": 47,
   "metadata": {},
   "outputs": [],
   "source": [
    "@njit\n",
    "def f2(x,v,t):\n",
    "     return np.where(v==0,\n",
    "     np.where(np.abs(-x*(2*k1 + k2)+ k2*u*t) < F0, -x*(2*k1 + k2) + k2*u*t ,F0*(1-eps) ),\n",
    "     F0*(1-eps)/(1+alpha*np.abs(v)))\n",
    "     ### TODO check for v<0"
   ]
  },
  {
   "cell_type": "code",
   "execution_count": 48,
   "metadata": {},
   "outputs": [],
   "source": [
    "def tenstion(x,v,t):\n",
    "    return (-x*(2*k1 + k2) + k2*u*t )/m"
   ]
  },
  {
   "cell_type": "code",
   "execution_count": 49,
   "metadata": {},
   "outputs": [],
   "source": [
    "@njit\n",
    "def step2(x,v,t):\n",
    "    k1 = v\n",
    "    l1 = acc2(x,v,t)\n",
    "\n",
    "    k2 = v + l1*h/2\n",
    "    l2 = acc2(x+k1*h/2,v + l1*h/2,t + h/2)\n",
    "\n",
    "    k3 = v + l2*h/2\n",
    "    l3 = acc2(x+k2*h/2,v + l2*h/2,t + h/2)\n",
    "\n",
    "    k4 = v + l3/2\n",
    "    l4 = acc2(x+k3*h,v + l3*h, t + h)\n",
    "\n",
    "    xNew = x +  (k1 + 2*k2 + 2*k3 + k4)*h/6\n",
    "    vNew = v +  (l1 + 2*l2 + 2*l3 + l4)*h/6\n",
    "\n",
    "    vNew = 0 if vNew < 0 else vNew \n",
    "    \n",
    "    return xNew, vNew,t+h"
   ]
  },
  {
   "cell_type": "code",
   "execution_count": 50,
   "metadata": {},
   "outputs": [],
   "source": [
    "@njit\n",
    "def step(x,v,t):\n",
    "    k1 = v\n",
    "    l1 = acc(x,v,t)\n",
    "\n",
    "    k2 = v + l1*h/2\n",
    "    l2 = acc(x+k1*h/2,v + l1*h/2,t + h/2)\n",
    "\n",
    "    k3 = v + l2*h/2\n",
    "    l3 = acc(x+k2*h/2,v + l2*h/2,t + h/2)\n",
    "\n",
    "    k4 = v + l3/2\n",
    "    l4 = acc(x+k3*h,v + l3*h, t + h)\n",
    "\n",
    "    xNew = x +  (k1 + 2*k2 + 2*k3 + k4)*h/6\n",
    "    vNew = v +  (l1 + 2*l2 + 2*l3 + l4)*h/6\n",
    "\n",
    "    vNew = np.where(vNew<0, 0, vNew)\n",
    "    \n",
    "    return xNew, vNew,t+h"
   ]
  },
  {
   "cell_type": "code",
   "execution_count": 51,
   "metadata": {},
   "outputs": [],
   "source": [
    "def run(x,v,t,steps=1_000_000):\n",
    "    xdata = np.zeros((steps,L),dtype=np.float32)\n",
    "    vdata = np.zeros((steps,L),dtype=np.float32)\n",
    "    for i in range(steps):\n",
    "        x,v,t = step(x,v,t)\n",
    "        xdata[i] = x\n",
    "        vdata[i] = v\n",
    "\n",
    "    slipping = np.any(vdata>0,axis=1)\n",
    "\n",
    "    slippingR = np.roll(slipping,+1)\n",
    "    slippingL = np.roll(slipping,-1)\n",
    "\n",
    "    slippingR[0] = False\n",
    "    slippingL[-1] = False \n",
    "\n",
    "    ends  = np.logical_xor( slipping ,(slipping *slippingL))\n",
    "    starts  = np.logical_xor( slipping ,(slipping *slippingR))\n",
    "\n",
    "    totalX = np.sum(xdata,axis = 1)\n",
    "\n",
    "    eventsSize = totalX[np.argwhere(ends)] - totalX[np.argwhere(starts)]\n",
    "    eventsBlocks = np.sum(xdata[ends]!=xdata[starts],axis=1).reshape(-1,1)\n",
    "\n",
    "    time = str(datetime.datetime.now())\n",
    "\n",
    "    np.save(\"xdata-\"+time,xdata)\n",
    "    np.save(\"vdata-\"+time,vdata)\n",
    "\n",
    "\n",
    "\n",
    "    return x,v,t,eventsSize,eventsBlocks\n"
   ]
  },
  {
   "cell_type": "code",
   "execution_count": 55,
   "metadata": {},
   "outputs": [],
   "source": [
    "x = 0.1*np.random.uniform(-1,1,L).astype(dtype=np.float32) \n",
    "v = np.zeros(L,dtype=np.float32)\n",
    "t = 0"
   ]
  },
  {
   "cell_type": "code",
   "execution_count": 56,
   "metadata": {},
   "outputs": [],
   "source": [
    "x,v,t,eventsSize,eventsBlock = run(x,v,t,1_000_000)"
   ]
  },
  {
   "cell_type": "code",
   "execution_count": null,
   "metadata": {},
   "outputs": [],
   "source": [
    "parts = 2000\n",
    "steps = 1_000_000\n",
    "eventsSizes = np.array([]).reshape((0,1))\n",
    "eventsBlocks = np.array([]).reshape((0,1))\n",
    "for p in range(parts):\n",
    "    x,v,t,eventsSize,eventsBlock = run(x,v,t,steps)\n",
    "    eventsSizes = np.concatenate((eventsSizes,eventsSize))\n",
    "    eventsBlocks = np.concatenate((eventsBlocks,eventsBlock))\n",
    "    print(p)\n",
    "\n",
    "np.save(\"eventsSizes\",eventsSizes)\n",
    "np.save(\"eventsBlocks\",eventsBlocks)\n",
    "\n",
    "    "
   ]
  },
  {
   "cell_type": "code",
   "execution_count": null,
   "metadata": {},
   "outputs": [],
   "source": [
    "dists = []\n",
    "for i in range(L):\n",
    "    dists.append(eventsSizes[eventsBlocks==i])"
   ]
  },
  {
   "cell_type": "code",
   "execution_count": null,
   "metadata": {},
   "outputs": [],
   "source": [
    "plt.hist(eventsSizes[eventsBlocks==1],bins=300)"
   ]
  },
  {
   "cell_type": "code",
   "execution_count": null,
   "metadata": {},
   "outputs": [],
   "source": [
    "plt.hist(eventsSizes)"
   ]
  },
  {
   "cell_type": "code",
   "execution_count": null,
   "metadata": {},
   "outputs": [],
   "source": [
    "freq,size = np.histogram(eventsSizes)"
   ]
  },
  {
   "cell_type": "code",
   "execution_count": null,
   "metadata": {},
   "outputs": [],
   "source": [
    "#slope , intercept, rvalue ,_,_= scipy.stats.linregress(np.log(size[:-1]),np.log(freq))\n",
    "\n",
    "plt.title(\"frequency vs size\")\n",
    "plt.xlabel(\"event size\")\n",
    "plt.ylabel(\"event frequency\")\n",
    "plt.scatter(np.log(size[:-1]),np.log(freq))\n",
    "#plt.plot([np.log(size[0]),np.log(size[-2])],[intercept + slope.astype(np.float32)*np.log(size[0]), intercept + slope.astype(np.float32)*np.log(size[-2])])\n",
    "#plt.text(-1,10,s = f\"slope = {np.round(slope,3)}, intercept = {np.round(intercept,3)}, rval = {np.round(rvalue,3)}\")\n",
    "plt.savefig(\"plot.png\")"
   ]
  },
  {
   "cell_type": "code",
   "execution_count": null,
   "metadata": {},
   "outputs": [],
   "source": [
    "x = 0\n",
    "v = 0\n",
    "t = 0\n",
    "steps = 100_000\n",
    "xData = np.zeros(steps)\n",
    "vData = np.zeros(steps)"
   ]
  },
  {
   "cell_type": "code",
   "execution_count": null,
   "metadata": {},
   "outputs": [],
   "source": [
    "for i in range(steps):\n",
    "    xData[i] = x\n",
    "    vData[i] = v\n",
    "    x,v,t = step2(x,v,t)\n"
   ]
  },
  {
   "cell_type": "code",
   "execution_count": null,
   "metadata": {},
   "outputs": [],
   "source": [
    "plt.plot(np.arange(steps),xData)"
   ]
  },
  {
   "cell_type": "code",
   "execution_count": null,
   "metadata": {},
   "outputs": [],
   "source": [
    "plt.plot(np.arange(steps),vData)"
   ]
  },
  {
   "cell_type": "code",
   "execution_count": null,
   "metadata": {},
   "outputs": [],
   "source": [
    "tensionData= np.zeros(steps)\n",
    "for i in range(steps):\n",
    "    tensionData[i] = tenstion(xData[i],vData[i],i*h)"
   ]
  },
  {
   "cell_type": "code",
   "execution_count": null,
   "metadata": {},
   "outputs": [],
   "source": [
    "fData= np.zeros(steps)\n",
    "for i in range(steps):\n",
    "    fData[i] = f2(xData[i],vData[i],i*h)"
   ]
  },
  {
   "cell_type": "code",
   "execution_count": null,
   "metadata": {},
   "outputs": [],
   "source": [
    "plt.plot(np.arange(9900,10100),xData[9900:10100])"
   ]
  },
  {
   "cell_type": "code",
   "execution_count": null,
   "metadata": {},
   "outputs": [],
   "source": [
    "plt.plot(np.arange(9900,10100),vData[9900:10100])"
   ]
  },
  {
   "cell_type": "code",
   "execution_count": null,
   "metadata": {},
   "outputs": [],
   "source": [
    "plt.plot(np.arange(9900,10100),fData[9900:10100])"
   ]
  },
  {
   "cell_type": "code",
   "execution_count": null,
   "metadata": {},
   "outputs": [],
   "source": [
    "plt.plot(np.arange(9900,10100),tensionData[9900:10100])"
   ]
  },
  {
   "cell_type": "code",
   "execution_count": null,
   "metadata": {},
   "outputs": [],
   "source": [
    "plt.plot(np.arange(steps),tensionData)"
   ]
  }
 ],
 "metadata": {
  "kernelspec": {
   "display_name": "base",
   "language": "python",
   "name": "python3"
  },
  "language_info": {
   "codemirror_mode": {
    "name": "ipython",
    "version": 3
   },
   "file_extension": ".py",
   "mimetype": "text/x-python",
   "name": "python",
   "nbconvert_exporter": "python",
   "pygments_lexer": "ipython3",
   "version": "3.11.3"
  }
 },
 "nbformat": 4,
 "nbformat_minor": 2
}
